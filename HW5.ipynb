{
 "cells": [
  {
   "cell_type": "code",
   "execution_count": 2,
   "metadata": {},
   "outputs": [],
   "source": [
    "import numpy as np\n",
    "import pandas as pd\n",
    "import matplotlib.pyplot as plt\n",
    "import os\n",
    "import seaborn as sns\n",
    "from sklearn import feature_selection as fs\n",
    "from sklearn import tree\n",
    "from sklearn import ensemble as es\n",
    "from sklearn import decomposition as dc\n",
    "from sklearn import preprocessing as pp\n",
    "import warnings\n",
    "\n",
    "warnings.filterwarnings(\"ignore\");"
   ]
  },
  {
   "cell_type": "markdown",
   "metadata": {},
   "source": [
    "#### Load Data"
   ]
  },
  {
   "cell_type": "code",
   "execution_count": 2,
   "metadata": {},
   "outputs": [
    {
     "data": {
      "text/html": [
       "<div>\n",
       "<style scoped>\n",
       "    .dataframe tbody tr th:only-of-type {\n",
       "        vertical-align: middle;\n",
       "    }\n",
       "\n",
       "    .dataframe tbody tr th {\n",
       "        vertical-align: top;\n",
       "    }\n",
       "\n",
       "    .dataframe thead th {\n",
       "        text-align: right;\n",
       "    }\n",
       "</style>\n",
       "<table border=\"1\" class=\"dataframe\">\n",
       "  <thead>\n",
       "    <tr style=\"text-align: right;\">\n",
       "      <th></th>\n",
       "      <th>Country</th>\n",
       "      <th>Estimated ART coverage among people living with HIV (%)</th>\n",
       "      <th>Estimated ART coverage among people living with HIV (%)_median</th>\n",
       "      <th>Estimated ART coverage among people living with HIV (%)_min</th>\n",
       "      <th>Estimated ART coverage among people living with HIV (%)_max</th>\n",
       "      <th>WHO Region</th>\n",
       "    </tr>\n",
       "  </thead>\n",
       "  <tbody>\n",
       "    <tr>\n",
       "      <th>0</th>\n",
       "      <td>Afghanistan</td>\n",
       "      <td>13</td>\n",
       "      <td>13.0</td>\n",
       "      <td>7.0</td>\n",
       "      <td>20.0</td>\n",
       "      <td>Other</td>\n",
       "    </tr>\n",
       "    <tr>\n",
       "      <th>1</th>\n",
       "      <td>Algeria</td>\n",
       "      <td>81</td>\n",
       "      <td>81.0</td>\n",
       "      <td>75.0</td>\n",
       "      <td>86.0</td>\n",
       "      <td>Africa</td>\n",
       "    </tr>\n",
       "    <tr>\n",
       "      <th>2</th>\n",
       "      <td>Angola</td>\n",
       "      <td>27</td>\n",
       "      <td>27.0</td>\n",
       "      <td>23.0</td>\n",
       "      <td>31.0</td>\n",
       "      <td>Africa</td>\n",
       "    </tr>\n",
       "    <tr>\n",
       "      <th>3</th>\n",
       "      <td>Argentina</td>\n",
       "      <td>61</td>\n",
       "      <td>61.0</td>\n",
       "      <td>55.0</td>\n",
       "      <td>67.0</td>\n",
       "      <td>Other</td>\n",
       "    </tr>\n",
       "    <tr>\n",
       "      <th>4</th>\n",
       "      <td>Armenia</td>\n",
       "      <td>53</td>\n",
       "      <td>53.0</td>\n",
       "      <td>44.0</td>\n",
       "      <td>65.0</td>\n",
       "      <td>Europe</td>\n",
       "    </tr>\n",
       "  </tbody>\n",
       "</table>\n",
       "</div>"
      ],
      "text/plain": [
       "       Country Estimated ART coverage among people living with HIV (%)  \\\n",
       "0  Afghanistan                                                 13        \n",
       "1      Algeria                                                 81        \n",
       "2       Angola                                                 27        \n",
       "3    Argentina                                                 61        \n",
       "4      Armenia                                                 53        \n",
       "\n",
       "   Estimated ART coverage among people living with HIV (%)_median  \\\n",
       "0                                               13.0                \n",
       "1                                               81.0                \n",
       "2                                               27.0                \n",
       "3                                               61.0                \n",
       "4                                               53.0                \n",
       "\n",
       "   Estimated ART coverage among people living with HIV (%)_min  \\\n",
       "0                                                7.0             \n",
       "1                                               75.0             \n",
       "2                                               23.0             \n",
       "3                                               55.0             \n",
       "4                                               44.0             \n",
       "\n",
       "   Estimated ART coverage among people living with HIV (%)_max WHO Region  \n",
       "0                                               20.0                Other  \n",
       "1                                               86.0               Africa  \n",
       "2                                               31.0               Africa  \n",
       "3                                               67.0                Other  \n",
       "4                                               65.0               Europe  "
      ]
     },
     "execution_count": 2,
     "metadata": {},
     "output_type": "execute_result"
    }
   ],
   "source": [
    "df = pd.read_csv(\"archive/art_coverage_by_country_clean.csv\")\n",
    "df = df.dropna()\n",
    "\n",
    "# df.head()\n",
    "df = df.drop(['Estimated number of people living with HIV_min',\n",
    "       'Estimated number of people living with HIV_median',\n",
    "       'Estimated number of people living with HIV_max', \"Reported number of people receiving ART\", \"Estimated number of people living with HIV\"], axis = 1);\n",
    "\n",
    "df = df.reset_index();\n",
    "df = df.drop([\"index\"], axis = 1);\n",
    "\n",
    "for i in range(len(df[\"Estimated ART coverage among people living with HIV (%)\"])): \n",
    "       pos = df[\"Estimated ART coverage among people living with HIV (%)\"][i].find(\"[\");\n",
    "       df[\"Estimated ART coverage among people living with HIV (%)\"][i] = df[\"Estimated ART coverage among people living with HIV (%)\"][i][:pos];\n",
    "\n",
    "for i in range(len(df[\"WHO Region\"])): \n",
    "    if df[\"WHO Region\"][i] != \"Africa\" and df[\"WHO Region\"][i] != \"Europe\":\n",
    "        df[\"WHO Region\"][i] = \"Other\"\n",
    "\n",
    "df.head()\n",
    "\n",
    "df.head()"
   ]
  },
  {
   "cell_type": "markdown",
   "metadata": {},
   "source": [
    "#### Process Data"
   ]
  },
  {
   "cell_type": "code",
   "execution_count": 3,
   "metadata": {},
   "outputs": [],
   "source": [
    "# label: list[str] = ['Eastern Mediterranean', 'Africa', 'Americas', 'Europe', 'Western Pacific', 'South-East Asia'];\n",
    "label: list[str] = ['Africa', 'Europe', 'Other'];\n",
    "cnt: list[int] = [i for i in range(len(label))];\n",
    "\n",
    "mp = {};\n",
    "for i in range(len(label)):\n",
    "    mp[label[i]] = cnt[i];\n",
    "\n",
    "df['WHO Region'] = df['WHO Region'].map(mp);"
   ]
  },
  {
   "cell_type": "code",
   "execution_count": 4,
   "metadata": {},
   "outputs": [
    {
     "data": {
      "text/html": [
       "<div>\n",
       "<style scoped>\n",
       "    .dataframe tbody tr th:only-of-type {\n",
       "        vertical-align: middle;\n",
       "    }\n",
       "\n",
       "    .dataframe tbody tr th {\n",
       "        vertical-align: top;\n",
       "    }\n",
       "\n",
       "    .dataframe thead th {\n",
       "        text-align: right;\n",
       "    }\n",
       "</style>\n",
       "<table border=\"1\" class=\"dataframe\">\n",
       "  <thead>\n",
       "    <tr style=\"text-align: right;\">\n",
       "      <th></th>\n",
       "      <th>Country</th>\n",
       "      <th>Estimated ART coverage among people living with HIV (%)</th>\n",
       "      <th>Estimated ART coverage among people living with HIV (%)_median</th>\n",
       "      <th>Estimated ART coverage among people living with HIV (%)_min</th>\n",
       "      <th>Estimated ART coverage among people living with HIV (%)_max</th>\n",
       "      <th>WHO Region</th>\n",
       "    </tr>\n",
       "  </thead>\n",
       "  <tbody>\n",
       "    <tr>\n",
       "      <th>0</th>\n",
       "      <td>2.01</td>\n",
       "      <td>13</td>\n",
       "      <td>13.0</td>\n",
       "      <td>7.0</td>\n",
       "      <td>20.0</td>\n",
       "      <td>2</td>\n",
       "    </tr>\n",
       "    <tr>\n",
       "      <th>1</th>\n",
       "      <td>0.01</td>\n",
       "      <td>81</td>\n",
       "      <td>81.0</td>\n",
       "      <td>75.0</td>\n",
       "      <td>86.0</td>\n",
       "      <td>0</td>\n",
       "    </tr>\n",
       "    <tr>\n",
       "      <th>2</th>\n",
       "      <td>0.01</td>\n",
       "      <td>27</td>\n",
       "      <td>27.0</td>\n",
       "      <td>23.0</td>\n",
       "      <td>31.0</td>\n",
       "      <td>0</td>\n",
       "    </tr>\n",
       "    <tr>\n",
       "      <th>3</th>\n",
       "      <td>2.01</td>\n",
       "      <td>61</td>\n",
       "      <td>61.0</td>\n",
       "      <td>55.0</td>\n",
       "      <td>67.0</td>\n",
       "      <td>2</td>\n",
       "    </tr>\n",
       "    <tr>\n",
       "      <th>4</th>\n",
       "      <td>1.01</td>\n",
       "      <td>53</td>\n",
       "      <td>53.0</td>\n",
       "      <td>44.0</td>\n",
       "      <td>65.0</td>\n",
       "      <td>1</td>\n",
       "    </tr>\n",
       "  </tbody>\n",
       "</table>\n",
       "</div>"
      ],
      "text/plain": [
       "  Country Estimated ART coverage among people living with HIV (%)  \\\n",
       "0    2.01                                                 13        \n",
       "1    0.01                                                 81        \n",
       "2    0.01                                                 27        \n",
       "3    2.01                                                 61        \n",
       "4    1.01                                                 53        \n",
       "\n",
       "   Estimated ART coverage among people living with HIV (%)_median  \\\n",
       "0                                               13.0                \n",
       "1                                               81.0                \n",
       "2                                               27.0                \n",
       "3                                               61.0                \n",
       "4                                               53.0                \n",
       "\n",
       "   Estimated ART coverage among people living with HIV (%)_min  \\\n",
       "0                                                7.0             \n",
       "1                                               75.0             \n",
       "2                                               23.0             \n",
       "3                                               55.0             \n",
       "4                                               44.0             \n",
       "\n",
       "   Estimated ART coverage among people living with HIV (%)_max  WHO Region  \n",
       "0                                               20.0                     2  \n",
       "1                                               86.0                     0  \n",
       "2                                               31.0                     0  \n",
       "3                                               67.0                     2  \n",
       "4                                               65.0                     1  "
      ]
     },
     "execution_count": 4,
     "metadata": {},
     "output_type": "execute_result"
    }
   ],
   "source": [
    "mp_country = {};\n",
    "for i in df[\"Country\"]: \n",
    "    if (i not in mp_country): mp_country[i] = 1;\n",
    "    else: mp_country[i] += 1;\n",
    "\n",
    "\n",
    "tmp = {};\n",
    "for a, b in mp_country.items():\n",
    "    tmp[a] = 1;\n",
    "\n",
    "for i in range(len(df[\"Country\"])):\n",
    "    s: str = df[\"Country\"][i];\n",
    "    df['Country'][i] = float(df[\"WHO Region\"][i] + tmp[s] * 0.01);\n",
    "    tmp[s] += 1;\n",
    "\n",
    "df.head()"
   ]
  },
  {
   "cell_type": "code",
   "execution_count": 5,
   "metadata": {},
   "outputs": [
    {
     "data": {
      "text/html": [
       "<div>\n",
       "<style scoped>\n",
       "    .dataframe tbody tr th:only-of-type {\n",
       "        vertical-align: middle;\n",
       "    }\n",
       "\n",
       "    .dataframe tbody tr th {\n",
       "        vertical-align: top;\n",
       "    }\n",
       "\n",
       "    .dataframe thead th {\n",
       "        text-align: right;\n",
       "    }\n",
       "</style>\n",
       "<table border=\"1\" class=\"dataframe\">\n",
       "  <thead>\n",
       "    <tr style=\"text-align: right;\">\n",
       "      <th></th>\n",
       "      <th>Estimated ART coverage among people living with HIV (%)</th>\n",
       "      <th>Estimated ART coverage among people living with HIV (%)_median</th>\n",
       "      <th>Estimated ART coverage among people living with HIV (%)_min</th>\n",
       "      <th>Estimated ART coverage among people living with HIV (%)_max</th>\n",
       "    </tr>\n",
       "  </thead>\n",
       "  <tbody>\n",
       "    <tr>\n",
       "      <th>0</th>\n",
       "      <td>13</td>\n",
       "      <td>13.0</td>\n",
       "      <td>7.0</td>\n",
       "      <td>20.0</td>\n",
       "    </tr>\n",
       "    <tr>\n",
       "      <th>1</th>\n",
       "      <td>81</td>\n",
       "      <td>81.0</td>\n",
       "      <td>75.0</td>\n",
       "      <td>86.0</td>\n",
       "    </tr>\n",
       "    <tr>\n",
       "      <th>2</th>\n",
       "      <td>27</td>\n",
       "      <td>27.0</td>\n",
       "      <td>23.0</td>\n",
       "      <td>31.0</td>\n",
       "    </tr>\n",
       "    <tr>\n",
       "      <th>3</th>\n",
       "      <td>61</td>\n",
       "      <td>61.0</td>\n",
       "      <td>55.0</td>\n",
       "      <td>67.0</td>\n",
       "    </tr>\n",
       "    <tr>\n",
       "      <th>4</th>\n",
       "      <td>53</td>\n",
       "      <td>53.0</td>\n",
       "      <td>44.0</td>\n",
       "      <td>65.0</td>\n",
       "    </tr>\n",
       "  </tbody>\n",
       "</table>\n",
       "</div>"
      ],
      "text/plain": [
       "  Estimated ART coverage among people living with HIV (%)  \\\n",
       "0                                                 13        \n",
       "1                                                 81        \n",
       "2                                                 27        \n",
       "3                                                 61        \n",
       "4                                                 53        \n",
       "\n",
       "   Estimated ART coverage among people living with HIV (%)_median  \\\n",
       "0                                               13.0                \n",
       "1                                               81.0                \n",
       "2                                               27.0                \n",
       "3                                               61.0                \n",
       "4                                               53.0                \n",
       "\n",
       "   Estimated ART coverage among people living with HIV (%)_min  \\\n",
       "0                                                7.0             \n",
       "1                                               75.0             \n",
       "2                                               23.0             \n",
       "3                                               55.0             \n",
       "4                                               44.0             \n",
       "\n",
       "   Estimated ART coverage among people living with HIV (%)_max  \n",
       "0                                               20.0            \n",
       "1                                               86.0            \n",
       "2                                               31.0            \n",
       "3                                               67.0            \n",
       "4                                               65.0            "
      ]
     },
     "execution_count": 5,
     "metadata": {},
     "output_type": "execute_result"
    }
   ],
   "source": [
    "df = df.drop([\"Country\"], axis = 1);\n",
    "target: list[str] = df['WHO Region'];\n",
    "df = df.drop(['WHO Region'], axis = 1);\n",
    "df.head()"
   ]
  },
  {
   "cell_type": "code",
   "execution_count": 6,
   "metadata": {},
   "outputs": [],
   "source": [
    "# df = pp.scale(df);"
   ]
  },
  {
   "cell_type": "markdown",
   "metadata": {},
   "source": [
    "#### Select K Best"
   ]
  },
  {
   "cell_type": "code",
   "execution_count": 6,
   "metadata": {},
   "outputs": [],
   "source": [
    "skb = fs.SelectKBest(fs.f_classif, k=3);\n",
    "\n",
    "skb.fit_transform(df, target);"
   ]
  },
  {
   "cell_type": "code",
   "execution_count": 7,
   "metadata": {},
   "outputs": [
    {
     "data": {
      "text/plain": [
       "array([0.19381544, 0.18456584, 0.30061174, 0.32100698])"
      ]
     },
     "execution_count": 7,
     "metadata": {},
     "output_type": "execute_result"
    }
   ],
   "source": [
    "tc = tree.DecisionTreeClassifier();\n",
    "tc.fit(df, target);\n",
    "tc.feature_importances_"
   ]
  },
  {
   "cell_type": "markdown",
   "metadata": {},
   "source": [
    "#### Random Forest Classifier"
   ]
  },
  {
   "cell_type": "code",
   "execution_count": 8,
   "metadata": {},
   "outputs": [
    {
     "data": {
      "text/plain": [
       "array([0.22127185, 0.21820647, 0.2975717 , 0.26294998])"
      ]
     },
     "execution_count": 8,
     "metadata": {},
     "output_type": "execute_result"
    }
   ],
   "source": [
    "rfc = es.RandomForestClassifier(n_estimators=100, random_state=37);\n",
    "\n",
    "rr = rfc.fit(df, target);\n",
    "rfc.feature_importances_"
   ]
  },
  {
   "cell_type": "code",
   "execution_count": 9,
   "metadata": {},
   "outputs": [
    {
     "data": {
      "text/plain": [
       "array([['13', 13.0, 7.0, 20.0],\n",
       "       ['81', 81.0, 75.0, 86.0],\n",
       "       ['27', 27.0, 23.0, 31.0],\n",
       "       ['61', 61.0, 55.0, 67.0],\n",
       "       ['53', 53.0, 44.0, 65.0],\n",
       "       ['83', 83.0, 70.0, 93.0],\n",
       "       ['52', 52.0, 45.0, 58.0],\n",
       "       ['22', 22.0, 19.0, 25.0],\n",
       "       ['50', 50.0, 44.0, 57.0],\n",
       "       ['59', 59.0, 48.0, 75.0],\n",
       "       ['28', 28.0, 26.0, 31.0],\n",
       "       ['61', 61.0, 40.0, 95.0],\n",
       "       ['37', 37.0, 20.0, 78.0],\n",
       "       ['44', 44.0, 40.0, 48.0],\n",
       "       ['67', 67.0, 57.0, 78.0],\n",
       "       ['83', 83.0, 75.0, 90.0],\n",
       "       ['66', 66.0, 51.0, 82.0],\n",
       "       ['41', 41.0, 35.0, 48.0],\n",
       "       ['62', 62.0, 50.0, 75.0],\n",
       "       ['80', 80.0, 69.0, 94.0],\n",
       "       ['89', 89.0, 75.0, 95.0],\n",
       "       ['81', 81.0, 71.0, 93.0],\n",
       "       ['52', 52.0, 46.0, 57.0],\n",
       "       ['36', 36.0, 30.0, 45.0],\n",
       "       ['51', 51.0, 40.0, 63.0],\n",
       "       ['63', 63.0, 56.0, 70.0],\n",
       "       ['73', 73.0, 60.0, 86.0],\n",
       "       ['79', 79.0, 39.0, 95.0],\n",
       "       ['35', 35.0, 27.0, 46.0],\n",
       "       ['49', 49.0, 44.0, 54.0],\n",
       "       ['55', 55.0, 44.0, 70.0],\n",
       "       ['75', 75.0, 67.0, 83.0],\n",
       "       ['72', 72.0, 55.0, 85.0],\n",
       "       ['60', 60.0, 51.0, 68.0],\n",
       "       ['57', 57.0, 47.0, 67.0],\n",
       "       ['89', 89.0, 79.0, 95.0],\n",
       "       ['30', 30.0, 25.0, 38.0],\n",
       "       ['56', 56.0, 43.0, 73.0],\n",
       "       ['57', 57.0, 38.0, 93.0],\n",
       "       ['31', 31.0, 28.0, 33.0],\n",
       "       ['47', 47.0, 39.0, 55.0],\n",
       "       ['34', 34.0, 27.0, 44.0],\n",
       "       ['51', 51.0, 38.0, 68.0],\n",
       "       ['59', 59.0, 53.0, 66.0],\n",
       "       ['86', 86.0, 80.0, 94.0],\n",
       "       ['65', 65.0, 50.0, 85.0],\n",
       "       ['76', 76.0, 60.0, 95.0],\n",
       "       ['83', 83.0, 69.0, 95.0],\n",
       "       ['67', 67.0, 54.0, 85.0],\n",
       "       ['29', 29.0, 24.0, 38.0],\n",
       "       ['49', 49.0, 42.0, 57.0],\n",
       "       ['80', 80.0, 65.0, 93.0],\n",
       "       ['34', 34.0, 28.0, 39.0],\n",
       "       ['43', 43.0, 40.0, 47.0],\n",
       "       ['40', 40.0, 34.0, 48.0],\n",
       "       ['33', 33.0, 29.0, 37.0],\n",
       "       ['68', 68.0, 60.0, 78.0],\n",
       "       ['58', 58.0, 52.0, 65.0],\n",
       "       ['50', 50.0, 40.0, 61.0],\n",
       "       ['56', 56.0, 48.0, 63.0],\n",
       "       ['79', 79.0, 71.0, 87.0],\n",
       "       ['17', 17.0, 15.0, 20.0],\n",
       "       ['20', 20.0, 11.0, 39.0],\n",
       "       ['80', 80.0, 69.0, 89.0],\n",
       "       ['91', 91.0, 78.0, 95.0],\n",
       "       ['31', 31.0, 27.0, 36.0],\n",
       "       ['80', 80.0, 68.0, 92.0],\n",
       "       ['84', 84.0, 76.0, 95.0],\n",
       "       ['58', 58.0, 54.0, 62.0],\n",
       "       ['68', 68.0, 58.0, 82.0],\n",
       "       ['62', 62.0, 55.0, 67.0],\n",
       "       ['43', 43.0, 33.0, 59.0],\n",
       "       ['54', 54.0, 48.0, 62.0],\n",
       "       ['45', 45.0, 41.0, 50.0],\n",
       "       ['60', 60.0, 53.0, 67.0],\n",
       "       ['61', 61.0, 57.0, 65.0],\n",
       "       ['35', 35.0, 32.0, 39.0],\n",
       "       ['44', 44.0, 40.0, 49.0],\n",
       "       ['77', 77.0, 67.0, 86.0],\n",
       "       ['9', 9.0, 7.0, 13.0],\n",
       "       ['78', 78.0, 70.0, 84.0],\n",
       "       ['48', 48.0, 42.0, 53.0],\n",
       "       ['31', 31.0, 25.0, 39.0],\n",
       "       ['54', 54.0, 44.0, 69.0],\n",
       "       ['22', 22.0, 18.0, 26.0],\n",
       "       ['70', 70.0, 60.0, 80.0],\n",
       "       ['32', 32.0, 29.0, 36.0],\n",
       "       ['40', 40.0, 34.0, 46.0],\n",
       "       ['65', 65.0, 52.0, 86.0],\n",
       "       ['56', 56.0, 44.0, 68.0],\n",
       "       ['70', 70.0, 63.0, 79.0],\n",
       "       ['92', 92.0, 84.0, 95.0],\n",
       "       ['56', 56.0, 50.0, 65.0],\n",
       "       ['73', 73.0, 62.0, 84.0],\n",
       "       ['53', 53.0, 43.0, 68.0],\n",
       "       ['54', 54.0, 45.0, 65.0],\n",
       "       ['53', 53.0, 40.0, 71.0],\n",
       "       ['82', 82.0, 74.0, 90.0],\n",
       "       ['41', 41.0, 37.0, 45.0],\n",
       "       ['10', 10.0, 9.0, 11.0],\n",
       "       ['54', 54.0, 48.0, 59.0],\n",
       "       ['65', 65.0, 58.0, 71.0],\n",
       "       ['40', 40.0, 31.0, 58.0],\n",
       "       ['73', 73.0, 54.0, 95.0],\n",
       "       ['44', 44.0, 37.0, 51.0],\n",
       "       ['90', 90.0, 78.0, 95.0],\n",
       "       ['34', 34.0, 27.0, 45.0],\n",
       "       ['54', 54.0, 47.0, 63.0],\n",
       "       ['67', 67.0, 60.0, 73.0],\n",
       "       ['87', 87.0, 76.0, 95.0],\n",
       "       ['63', 63.0, 55.0, 71.0],\n",
       "       ['65', 65.0, 47.0, 83.0],\n",
       "       ['41', 41.0, 33.0, 50.0],\n",
       "       ['78', 78.0, 71.0, 86.0],\n",
       "       ['54', 54.0, 40.0, 85.0],\n",
       "       ['30', 30.0, 23.0, 41.0],\n",
       "       ['62', 62.0, 57.0, 66.0],\n",
       "       ['16', 16.0, 12.0, 20.0],\n",
       "       ['84', 84.0, 73.0, 94.0],\n",
       "       ['45', 45.0, 40.0, 52.0],\n",
       "       ['15', 15.0, 7.0, 28.0],\n",
       "       ['52', 52.0, 35.0, 75.0],\n",
       "       ['20', 20.0, 18.0, 22.0],\n",
       "       ['46', 46.0, 38.0, 56.0],\n",
       "       ['75', 75.0, 66.0, 86.0],\n",
       "       ['60', 60.0, 56.0, 65.0],\n",
       "       ['39', 39.0, 24.0, 61.0],\n",
       "       ['72', 72.0, 68.0, 78.0],\n",
       "       ['52', 52.0, 48.0, 56.0],\n",
       "       ['71', 71.0, 64.0, 78.0],\n",
       "       ['58', 58.0, 41.0, 76.0],\n",
       "       ['51', 51.0, 47.0, 55.0],\n",
       "       ['65', 65.0, 57.0, 73.0],\n",
       "       ['21', 21.0, 12.0, 35.0],\n",
       "       ['78', 78.0, 69.0, 88.0],\n",
       "       ['88', 88.0, 77.0, 95.0]], dtype=object)"
      ]
     },
     "execution_count": 9,
     "metadata": {},
     "output_type": "execute_result"
    }
   ],
   "source": [
    "srm = fs.SelectFromModel(rfc, prefit=True, threshold=0.03);\n",
    "srm.transform(df)"
   ]
  },
  {
   "cell_type": "markdown",
   "metadata": {},
   "source": [
    "#### PCA"
   ]
  },
  {
   "cell_type": "code",
   "execution_count": 10,
   "metadata": {},
   "outputs": [
    {
     "data": {
      "image/png": "[encoded data removed]",
      "text/plain": [
       "<Figure size 640x480 with 1 Axes>"
      ]
     },
     "metadata": {},
     "output_type": "display_data"
    }
   ],
   "source": [
    "pca = dc.PCA(n_components=2);\n",
    "# pca.fit(df, target);\n",
    "# print(pca.explained_variance_ratio_)\n",
    "\n",
    "# scree_plot = pd.Series(pca.explained_variance_ratio_).plot.bar(rot = 1);\n",
    "\n",
    "# df = df.drop([\"Estimated number of people living with HIV_median\", \"Estimated number of people living with HIV_max\", \"Estimated number of people living with HIV_min\"], axis=1);\n",
    "# df = df.drop([\"Reported number of people receiving ART\"], axis = 1);\n",
    "pcs = pca.fit_transform(df, target);\n",
    "pcs_df = pd.DataFrame(pcs, columns=['PCA1', 'PCA2']);\n",
    "pcs_df.head()\n",
    "\n",
    "color: list[str] = [];\n",
    "\n",
    "for i in target: \n",
    "    if (i == 0): color.append('r');\n",
    "    elif (i == 1): color.append('g');\n",
    "    elif (i == 2): color.append('b');\n",
    "    elif (i == 3): color.append('y');\n",
    "    elif (i == 4): color.append('m');\n",
    "    else: color.append('c');\n",
    "\n",
    "pcs_df.plot.scatter('PCA1', 'PCA2', c = color, s = 50);"
   ]
  },
  {
   "cell_type": "markdown",
   "metadata": {},
   "source": [
    "#### Many Model..."
   ]
  },
  {
   "cell_type": "code",
   "execution_count": 12,
   "metadata": {},
   "outputs": [],
   "source": [
    "from sklearn.preprocessing import StandardScaler\n",
    "from sklearn.model_selection import train_test_split\n",
    "from sklearn.ensemble import RandomForestClassifier\n",
    "from sklearn.svm import LinearSVC\n",
    "from sklearn.neighbors import KNeighborsClassifier\n",
    "from sklearn.tree import DecisionTreeClassifier\n"
   ]
  },
  {
   "cell_type": "code",
   "execution_count": 13,
   "metadata": {},
   "outputs": [],
   "source": [
    "sc = StandardScaler();\n",
    "df = sc.fit_transform(df);\n",
    "\n",
    "x_train, x_test, y_train, y_test = train_test_split(df, target, test_size=0.2, random_state=37);"
   ]
  },
  {
   "cell_type": "code",
   "execution_count": 14,
   "metadata": {},
   "outputs": [
    {
     "name": "stdout",
     "output_type": "stream",
     "text": [
      "Random Forest_train: 1.0\n",
      "Random Forest_test: 0.17857142857142858\n",
      "[5 1 3 5 0 3 1 3 1 1 3 3 0 3 1 3 3 1 3 1 1 3 3 2 3 5 1 1]\n"
     ]
    }
   ],
   "source": [
    "forest = RandomForestClassifier(n_estimators=100, random_state=37);\n",
    "forest.fit(x_train, y_train);\n",
    "\n",
    "pred = forest.predict(x_test);\n",
    "print(f\"Random Forest_train: {forest.score(x_train, y_train)}\")\n",
    "print(f\"Random Forest_test: {forest.score(x_test, y_test)}\")\n",
    "\n",
    "print(pred);\n",
    "# print(y_test);"
   ]
  },
  {
   "cell_type": "code",
   "execution_count": 15,
   "metadata": {},
   "outputs": [
    {
     "name": "stdout",
     "output_type": "stream",
     "text": [
      "Linear SVM_train: 0.37962962962962965\n",
      "Linear SVM_test: 0.14285714285714285\n"
     ]
    }
   ],
   "source": [
    "linear_svm = LinearSVC(random_state=0)\n",
    "linear_svm.fit(x_train, y_train)\n",
    "predictions = linear_svm.predict(x_test)\n",
    "print(f\"Linear SVM_train: {linear_svm.score(x_train, y_train)}\")\n",
    "print(f\"Linear SVM_test: {linear_svm.score(x_test, y_test)}\")"
   ]
  },
  {
   "cell_type": "code",
   "execution_count": 16,
   "metadata": {},
   "outputs": [
    {
     "name": "stdout",
     "output_type": "stream",
     "text": [
      "KNN_train: 0.5092592592592593\n",
      "KNN_test: 0.25\n"
     ]
    }
   ],
   "source": [
    "knn = KNeighborsClassifier(n_neighbors=5)\n",
    "knn.fit(x_train, y_train)\n",
    "predictions = knn.predict(x_test)\n",
    "print(f\"KNN_train: {knn.score(x_train, y_train)}\")\n",
    "print(f\"KNN_test: {knn.score(x_test, y_test)}\")"
   ]
  },
  {
   "cell_type": "code",
   "execution_count": 17,
   "metadata": {},
   "outputs": [
    {
     "name": "stdout",
     "output_type": "stream",
     "text": [
      "Decision tree_train: 0.7685185185185185\n",
      "Decision tree_test: 0.25\n"
     ]
    }
   ],
   "source": [
    "tree = DecisionTreeClassifier(random_state=0, min_samples_split=5)\n",
    "tree.fit(x_train, y_train)\n",
    "predictions = tree.predict(x_test)\n",
    "print(f\"Decision tree_train: {tree.score(x_train, y_train)}\")\n",
    "print(f\"Decision tree_test: {tree.score(x_test, y_test)}\")"
   ]
  },
  {
   "cell_type": "markdown",
   "metadata": {},
   "source": [
    "#### Hamming Distance HW"
   ]
  },
  {
   "cell_type": "code",
   "execution_count": 3,
   "metadata": {},
   "outputs": [
    {
     "data": {
      "text/html": [
       "<div>\n",
       "<style scoped>\n",
       "    .dataframe tbody tr th:only-of-type {\n",
       "        vertical-align: middle;\n",
       "    }\n",
       "\n",
       "    .dataframe tbody tr th {\n",
       "        vertical-align: top;\n",
       "    }\n",
       "\n",
       "    .dataframe thead th {\n",
       "        text-align: right;\n",
       "    }\n",
       "</style>\n",
       "<table border=\"1\" class=\"dataframe\">\n",
       "  <thead>\n",
       "    <tr style=\"text-align: right;\">\n",
       "      <th></th>\n",
       "      <th>性別</th>\n",
       "      <th>部門</th>\n",
       "      <th>薪資</th>\n",
       "      <th>配偶</th>\n",
       "    </tr>\n",
       "  </thead>\n",
       "  <tbody>\n",
       "    <tr>\n",
       "      <th>0</th>\n",
       "      <td>男</td>\n",
       "      <td>市場部</td>\n",
       "      <td>24000</td>\n",
       "      <td>無</td>\n",
       "    </tr>\n",
       "    <tr>\n",
       "      <th>1</th>\n",
       "      <td>女</td>\n",
       "      <td>研發部</td>\n",
       "      <td>45000</td>\n",
       "      <td>有</td>\n",
       "    </tr>\n",
       "    <tr>\n",
       "      <th>2</th>\n",
       "      <td>女</td>\n",
       "      <td>會計部</td>\n",
       "      <td>25000</td>\n",
       "      <td>有</td>\n",
       "    </tr>\n",
       "    <tr>\n",
       "      <th>3</th>\n",
       "      <td>男</td>\n",
       "      <td>研發部</td>\n",
       "      <td>40000</td>\n",
       "      <td>無</td>\n",
       "    </tr>\n",
       "    <tr>\n",
       "      <th>4</th>\n",
       "      <td>女</td>\n",
       "      <td>會計部</td>\n",
       "      <td>24000</td>\n",
       "      <td>有</td>\n",
       "    </tr>\n",
       "    <tr>\n",
       "      <th>5</th>\n",
       "      <td>男</td>\n",
       "      <td>研發部</td>\n",
       "      <td>40000</td>\n",
       "      <td>無</td>\n",
       "    </tr>\n",
       "    <tr>\n",
       "      <th>6</th>\n",
       "      <td>男</td>\n",
       "      <td>市場部</td>\n",
       "      <td>24000</td>\n",
       "      <td>有</td>\n",
       "    </tr>\n",
       "  </tbody>\n",
       "</table>\n",
       "</div>"
      ],
      "text/plain": [
       "  性別   部門     薪資 配偶\n",
       "0  男  市場部  24000  無\n",
       "1  女  研發部  45000  有\n",
       "2  女  會計部  25000  有\n",
       "3  男  研發部  40000  無\n",
       "4  女  會計部  24000  有\n",
       "5  男  研發部  40000  無\n",
       "6  男  市場部  24000  有"
      ]
     },
     "execution_count": 3,
     "metadata": {},
     "output_type": "execute_result"
    }
   ],
   "source": [
    "df = pd.read_csv(\"hw5.csv\");\n",
    "\n",
    "cmp = df.values[0];\n",
    "\n",
    "df"
   ]
  },
  {
   "cell_type": "code",
   "execution_count": 4,
   "metadata": {},
   "outputs": [],
   "source": [
    "def Hamming_list (df: pd.DataFrame) -> list[list]:\n",
    "    n: int = len(df.values);\n",
    "    res: list[list] = [[0 for i in range(n)] for j in range(n)];\n",
    "    for i in range(n):\n",
    "        nw = df.values[i];\n",
    "        for j in range(i):\n",
    "            tmp = df.values[j];\n",
    "            for k in range(len(nw)): \n",
    "                if (tmp[k] == nw[k]): \n",
    "                    res[j][i] += 1;\n",
    "            res[j][i] /= len(nw);\n",
    "        \n",
    "    return res;"
   ]
  },
  {
   "cell_type": "code",
   "execution_count": 5,
   "metadata": {},
   "outputs": [],
   "source": [
    "num = Hamming_list(df);"
   ]
  },
  {
   "cell_type": "code",
   "execution_count": 6,
   "metadata": {},
   "outputs": [],
   "source": [
    "def show (arr: list[list]) -> None:\n",
    "    for i in range(len(arr)):\n",
    "        for j in range(len(arr[i])):\n",
    "            print(f\"{arr[i][j]:.2f}\", end = ' ');\n",
    "        print();"
   ]
  },
  {
   "cell_type": "code",
   "execution_count": 7,
   "metadata": {},
   "outputs": [
    {
     "name": "stdout",
     "output_type": "stream",
     "text": [
      "0.00 0.00 0.00 0.50 0.25 0.50 0.75 \n",
      "0.00 0.00 0.50 0.25 0.50 0.25 0.25 \n",
      "0.00 0.00 0.00 0.00 0.75 0.00 0.25 \n",
      "0.00 0.00 0.00 0.00 0.00 1.00 0.25 \n",
      "0.00 0.00 0.00 0.00 0.00 0.00 0.50 \n",
      "0.00 0.00 0.00 0.00 0.00 0.00 0.25 \n",
      "0.00 0.00 0.00 0.00 0.00 0.00 0.00 \n"
     ]
    }
   ],
   "source": [
    "show(num)"
   ]
  },
  {
   "cell_type": "markdown",
   "metadata": {},
   "source": [
    "> 各別移除資料"
   ]
  },
  {
   "cell_type": "code",
   "execution_count": 8,
   "metadata": {},
   "outputs": [],
   "source": [
    "df2 = df.drop([\"性別\"], axis = 1);\n",
    "df3 = df.drop([\"部門\"], axis = 1);\n",
    "df4 = df.drop([\"薪資\"], axis = 1);\n",
    "df5 = df.drop([\"配偶\"], axis = 1);"
   ]
  },
  {
   "cell_type": "markdown",
   "metadata": {},
   "source": [
    "> 移除後計算 `Hamming Distance`"
   ]
  },
  {
   "cell_type": "code",
   "execution_count": 9,
   "metadata": {},
   "outputs": [
    {
     "name": "stdout",
     "output_type": "stream",
     "text": [
      "移除性別: \n",
      "0.00 0.00 0.00 0.33 0.33 0.33 0.67 \n",
      "0.00 0.00 0.33 0.33 0.33 0.33 0.33 \n",
      "0.00 0.00 0.00 0.00 0.67 0.00 0.33 \n",
      "0.00 0.00 0.00 0.00 0.00 1.00 0.00 \n",
      "0.00 0.00 0.00 0.00 0.00 0.00 0.67 \n",
      "0.00 0.00 0.00 0.00 0.00 0.00 0.00 \n",
      "0.00 0.00 0.00 0.00 0.00 0.00 0.00 \n",
      "\n",
      "移除部門: \n",
      "0.00 0.00 0.00 0.67 0.33 0.67 0.67 \n",
      "0.00 0.00 0.67 0.00 0.67 0.00 0.33 \n",
      "0.00 0.00 0.00 0.00 0.67 0.00 0.33 \n",
      "0.00 0.00 0.00 0.00 0.00 1.00 0.33 \n",
      "0.00 0.00 0.00 0.00 0.00 0.00 0.67 \n",
      "0.00 0.00 0.00 0.00 0.00 0.00 0.33 \n",
      "0.00 0.00 0.00 0.00 0.00 0.00 0.00 \n",
      "\n",
      "移除薪資: \n",
      "0.00 0.00 0.00 0.67 0.00 0.67 0.67 \n",
      "0.00 0.00 0.67 0.33 0.67 0.33 0.33 \n",
      "0.00 0.00 0.00 0.00 1.00 0.00 0.33 \n",
      "0.00 0.00 0.00 0.00 0.00 1.00 0.33 \n",
      "0.00 0.00 0.00 0.00 0.00 0.00 0.33 \n",
      "0.00 0.00 0.00 0.00 0.00 0.00 0.33 \n",
      "0.00 0.00 0.00 0.00 0.00 0.00 0.00 \n",
      "\n",
      "移除配偶: \n",
      "0.00 0.00 0.00 0.33 0.33 0.33 1.00 \n",
      "0.00 0.00 0.33 0.33 0.33 0.33 0.00 \n",
      "0.00 0.00 0.00 0.00 0.67 0.00 0.00 \n",
      "0.00 0.00 0.00 0.00 0.00 1.00 0.33 \n",
      "0.00 0.00 0.00 0.00 0.00 0.00 0.33 \n",
      "0.00 0.00 0.00 0.00 0.00 0.00 0.33 \n",
      "0.00 0.00 0.00 0.00 0.00 0.00 0.00 \n"
     ]
    }
   ],
   "source": [
    "num2 = Hamming_list(df2);\n",
    "num3 = Hamming_list(df3);\n",
    "num4 = Hamming_list(df4);\n",
    "num5 = Hamming_list(df5);\n",
    "\n",
    "print(\"移除性別: \");\n",
    "show(num2);\n",
    "\n",
    "print(\"\\n移除部門: \")\n",
    "show(num3);\n",
    "\n",
    "print(\"\\n移除薪資: \")\n",
    "show(num4);\n",
    "\n",
    "print(\"\\n移除配偶: \")\n",
    "show(num5);"
   ]
  },
  {
   "cell_type": "markdown",
   "metadata": {},
   "source": [
    "> 計算亂度 $E = \\sum ((p * \\log{p}) + ((1 - p) * \\log{(1 - p)}))$"
   ]
  },
  {
   "cell_type": "code",
   "execution_count": 10,
   "metadata": {},
   "outputs": [],
   "source": [
    "import math\n",
    "\n",
    "def entropy (p: float) -> float:\n",
    "    if (p == 0 or p == 1): return 0;\n",
    "    return -p * math.log2(p) - (1 - p) * math.log2(1 - p);\n",
    "\n",
    "def cal_entropy (num: list[list]) -> float:\n",
    "    res: float = 0;\n",
    "    for i in range(len(num)):\n",
    "        for j in range(len(num[i])):\n",
    "            res += entropy(num[i][j]);\n",
    "    return res;"
   ]
  },
  {
   "cell_type": "code",
   "execution_count": 11,
   "metadata": {},
   "outputs": [
    {
     "name": "stdout",
     "output_type": "stream",
     "text": [
      "原始資料: 12.30150\n",
      "移除性別: 11.01955\n",
      "移除部門: 11.01955\n",
      "移除薪資: 11.01955\n",
      "移除配偶: 10.10125\n"
     ]
    }
   ],
   "source": [
    "Original: float = cal_entropy(num);\n",
    "print(f\"原始資料: {Original:.5f}\");\n",
    "\n",
    "rm_gen: float = cal_entropy(num2);\n",
    "print(f\"移除性別: {rm_gen:.5f}\");\n",
    "\n",
    "rm_dep: float = cal_entropy(num3);\n",
    "print(f\"移除部門: {rm_dep:.5f}\");\n",
    "\n",
    "rm_sal: float = cal_entropy(num4);\n",
    "print(f\"移除薪資: {rm_sal:.5f}\");\n",
    "\n",
    "rm_spo: float = cal_entropy(num5);\n",
    "print(f\"移除配偶: {rm_spo:.5f}\");"
   ]
  },
  {
   "cell_type": "markdown",
   "metadata": {},
   "source": [
    "> 亂度大到小排列"
   ]
  },
  {
   "cell_type": "code",
   "execution_count": 12,
   "metadata": {},
   "outputs": [
    {
     "name": "stdout",
     "output_type": "stream",
     "text": [
      "亂度大到小排列: \n",
      "   原始資料: 12.30150\n",
      "   移除性別: 11.01955\n",
      "   移除部門: 11.01955\n",
      "   移除薪資: 11.01955\n",
      "   移除配偶: 10.10125\n"
     ]
    }
   ],
   "source": [
    "class Data:\n",
    "    def __init__(self, name: str, num: float):\n",
    "        self.name: str = name;\n",
    "        self.num: int = num;\n",
    "\n",
    "\n",
    "data: list[Data] = [Data(\"原始資料\", Original), Data(\"移除性別\", rm_gen), Data(\"移除部門\", rm_dep), Data(\"移除薪資\", rm_sal), Data(\"移除配偶\", rm_spo)];\n",
    "\n",
    "data.sort(key = lambda x: x.num, reverse = True);\n",
    "\n",
    "print(\"亂度大到小排列: \");\n",
    "for i in data:\n",
    "    print(f\"{i.name: >7}: {i.num:.5f}\");"
   ]
  },
  {
   "cell_type": "code",
   "execution_count": null,
   "metadata": {},
   "outputs": [],
   "source": []
  }
 ],
 "metadata": {
  "kernelspec": {
   "display_name": "env",
   "language": "python",
   "name": "python3"
  },
  "language_info": {
   "codemirror_mode": {
    "name": "ipython",
    "version": 3
   },
   "file_extension": ".py",
   "mimetype": "text/x-python",
   "name": "python",
   "nbconvert_exporter": "python",
   "pygments_lexer": "ipython3",
   "version": "3.9.18"
  }
 },
 "nbformat": 4,
 "nbformat_minor": 2
}
