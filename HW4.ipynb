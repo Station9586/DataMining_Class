{
 "cells": [
  {
   "cell_type": "code",
   "execution_count": 45,
   "metadata": {},
   "outputs": [],
   "source": [
    "import numpy as np\n",
    "import pandas as pd\n",
    "import matplotlib.pyplot as plt\n",
    "import os\n",
    "import seaborn as sns"
   ]
  },
  {
   "cell_type": "code",
   "execution_count": 46,
   "metadata": {},
   "outputs": [
    {
     "data": {
      "text/html": [
       "<div>\n",
       "<style scoped>\n",
       "    .dataframe tbody tr th:only-of-type {\n",
       "        vertical-align: middle;\n",
       "    }\n",
       "\n",
       "    .dataframe tbody tr th {\n",
       "        vertical-align: top;\n",
       "    }\n",
       "\n",
       "    .dataframe thead th {\n",
       "        text-align: right;\n",
       "    }\n",
       "</style>\n",
       "<table border=\"1\" class=\"dataframe\">\n",
       "  <thead>\n",
       "    <tr style=\"text-align: right;\">\n",
       "      <th></th>\n",
       "      <th>Country</th>\n",
       "      <th>Reported number of people receiving ART</th>\n",
       "      <th>Estimated number of people living with HIV</th>\n",
       "      <th>Estimated ART coverage among people living with HIV (%)</th>\n",
       "      <th>Estimated number of people living with HIV_median</th>\n",
       "      <th>Estimated number of people living with HIV_min</th>\n",
       "      <th>Estimated number of people living with HIV_max</th>\n",
       "      <th>Estimated ART coverage among people living with HIV (%)_median</th>\n",
       "      <th>Estimated ART coverage among people living with HIV (%)_min</th>\n",
       "      <th>Estimated ART coverage among people living with HIV (%)_max</th>\n",
       "      <th>WHO Region</th>\n",
       "    </tr>\n",
       "  </thead>\n",
       "  <tbody>\n",
       "    <tr>\n",
       "      <th>0</th>\n",
       "      <td>Afghanistan</td>\n",
       "      <td>920</td>\n",
       "      <td>7200[4100–11000]</td>\n",
       "      <td>13[7–20]</td>\n",
       "      <td>7200.0</td>\n",
       "      <td>4100.0</td>\n",
       "      <td>11000.0</td>\n",
       "      <td>13.0</td>\n",
       "      <td>7.0</td>\n",
       "      <td>20.0</td>\n",
       "      <td>Eastern Mediterranean</td>\n",
       "    </tr>\n",
       "    <tr>\n",
       "      <th>2</th>\n",
       "      <td>Algeria</td>\n",
       "      <td>12800</td>\n",
       "      <td>16000[15000–17000]</td>\n",
       "      <td>81[75–86]</td>\n",
       "      <td>16000.0</td>\n",
       "      <td>15000.0</td>\n",
       "      <td>17000.0</td>\n",
       "      <td>81.0</td>\n",
       "      <td>75.0</td>\n",
       "      <td>86.0</td>\n",
       "      <td>Africa</td>\n",
       "    </tr>\n",
       "    <tr>\n",
       "      <th>3</th>\n",
       "      <td>Angola</td>\n",
       "      <td>88700</td>\n",
       "      <td>330000[290000–390000]</td>\n",
       "      <td>27[23–31]</td>\n",
       "      <td>330000.0</td>\n",
       "      <td>290000.0</td>\n",
       "      <td>390000.0</td>\n",
       "      <td>27.0</td>\n",
       "      <td>23.0</td>\n",
       "      <td>31.0</td>\n",
       "      <td>Africa</td>\n",
       "    </tr>\n",
       "    <tr>\n",
       "      <th>4</th>\n",
       "      <td>Argentina</td>\n",
       "      <td>85500</td>\n",
       "      <td>140000[130000–150000]</td>\n",
       "      <td>61[55–67]</td>\n",
       "      <td>140000.0</td>\n",
       "      <td>130000.0</td>\n",
       "      <td>150000.0</td>\n",
       "      <td>61.0</td>\n",
       "      <td>55.0</td>\n",
       "      <td>67.0</td>\n",
       "      <td>Americas</td>\n",
       "    </tr>\n",
       "    <tr>\n",
       "      <th>5</th>\n",
       "      <td>Armenia</td>\n",
       "      <td>1900</td>\n",
       "      <td>3500[3000–4400]</td>\n",
       "      <td>53[44–65]</td>\n",
       "      <td>3500.0</td>\n",
       "      <td>3000.0</td>\n",
       "      <td>4400.0</td>\n",
       "      <td>53.0</td>\n",
       "      <td>44.0</td>\n",
       "      <td>65.0</td>\n",
       "      <td>Europe</td>\n",
       "    </tr>\n",
       "  </tbody>\n",
       "</table>\n",
       "</div>"
      ],
      "text/plain": [
       "       Country Reported number of people receiving ART  \\\n",
       "0  Afghanistan                                     920   \n",
       "2      Algeria                                   12800   \n",
       "3       Angola                                   88700   \n",
       "4    Argentina                                   85500   \n",
       "5      Armenia                                    1900   \n",
       "\n",
       "  Estimated number of people living with HIV  \\\n",
       "0                           7200[4100–11000]   \n",
       "2                         16000[15000–17000]   \n",
       "3                      330000[290000–390000]   \n",
       "4                      140000[130000–150000]   \n",
       "5                            3500[3000–4400]   \n",
       "\n",
       "  Estimated ART coverage among people living with HIV (%)  \\\n",
       "0                                           13[7–20]        \n",
       "2                                          81[75–86]        \n",
       "3                                          27[23–31]        \n",
       "4                                          61[55–67]        \n",
       "5                                          53[44–65]        \n",
       "\n",
       "   Estimated number of people living with HIV_median  \\\n",
       "0                                             7200.0   \n",
       "2                                            16000.0   \n",
       "3                                           330000.0   \n",
       "4                                           140000.0   \n",
       "5                                             3500.0   \n",
       "\n",
       "   Estimated number of people living with HIV_min  \\\n",
       "0                                          4100.0   \n",
       "2                                         15000.0   \n",
       "3                                        290000.0   \n",
       "4                                        130000.0   \n",
       "5                                          3000.0   \n",
       "\n",
       "   Estimated number of people living with HIV_max  \\\n",
       "0                                         11000.0   \n",
       "2                                         17000.0   \n",
       "3                                        390000.0   \n",
       "4                                        150000.0   \n",
       "5                                          4400.0   \n",
       "\n",
       "   Estimated ART coverage among people living with HIV (%)_median  \\\n",
       "0                                               13.0                \n",
       "2                                               81.0                \n",
       "3                                               27.0                \n",
       "4                                               61.0                \n",
       "5                                               53.0                \n",
       "\n",
       "   Estimated ART coverage among people living with HIV (%)_min  \\\n",
       "0                                                7.0             \n",
       "2                                               75.0             \n",
       "3                                               23.0             \n",
       "4                                               55.0             \n",
       "5                                               44.0             \n",
       "\n",
       "   Estimated ART coverage among people living with HIV (%)_max  \\\n",
       "0                                               20.0             \n",
       "2                                               86.0             \n",
       "3                                               31.0             \n",
       "4                                               67.0             \n",
       "5                                               65.0             \n",
       "\n",
       "              WHO Region  \n",
       "0  Eastern Mediterranean  \n",
       "2                 Africa  \n",
       "3                 Africa  \n",
       "4               Americas  \n",
       "5                 Europe  "
      ]
     },
     "execution_count": 46,
     "metadata": {},
     "output_type": "execute_result"
    }
   ],
   "source": [
    "coverages = pd.read_csv(\"archive/art_coverage_by_country_clean.csv\")\n",
    "coverages = coverages.dropna()\n",
    "\n",
    "coverages.head()"
   ]
  },
  {
   "cell_type": "code",
   "execution_count": 47,
   "metadata": {},
   "outputs": [
    {
     "name": "stdout",
     "output_type": "stream",
     "text": [
      "<class 'pandas.core.frame.DataFrame'>\n",
      "Index: 136 entries, 0 to 169\n",
      "Data columns (total 11 columns):\n",
      " #   Column                                                          Non-Null Count  Dtype  \n",
      "---  ------                                                          --------------  -----  \n",
      " 0   Country                                                         136 non-null    object \n",
      " 1   Reported number of people receiving ART                         136 non-null    object \n",
      " 2   Estimated number of people living with HIV                      136 non-null    object \n",
      " 3   Estimated ART coverage among people living with HIV (%)         136 non-null    object \n",
      " 4   Estimated number of people living with HIV_median               136 non-null    float64\n",
      " 5   Estimated number of people living with HIV_min                  136 non-null    float64\n",
      " 6   Estimated number of people living with HIV_max                  136 non-null    float64\n",
      " 7   Estimated ART coverage among people living with HIV (%)_median  136 non-null    float64\n",
      " 8   Estimated ART coverage among people living with HIV (%)_min     136 non-null    float64\n",
      " 9   Estimated ART coverage among people living with HIV (%)_max     136 non-null    float64\n",
      " 10  WHO Region                                                      136 non-null    object \n",
      "dtypes: float64(6), object(5)\n",
      "memory usage: 12.8+ KB\n"
     ]
    }
   ],
   "source": [
    "coverages.info()"
   ]
  },
  {
   "cell_type": "code",
   "execution_count": 48,
   "metadata": {},
   "outputs": [
    {
     "data": {
      "text/plain": [
       "Index(['Country', 'Reported number of people receiving ART',\n",
       "       'Estimated number of people living with HIV',\n",
       "       'Estimated ART coverage among people living with HIV (%)',\n",
       "       'Estimated number of people living with HIV_median',\n",
       "       'Estimated number of people living with HIV_min',\n",
       "       'Estimated number of people living with HIV_max',\n",
       "       'Estimated ART coverage among people living with HIV (%)_median',\n",
       "       'Estimated ART coverage among people living with HIV (%)_min',\n",
       "       'Estimated ART coverage among people living with HIV (%)_max',\n",
       "       'WHO Region'],\n",
       "      dtype='object')"
      ]
     },
     "execution_count": 48,
     "metadata": {},
     "output_type": "execute_result"
    }
   ],
   "source": [
    "coverages.columns"
   ]
  },
  {
   "cell_type": "code",
   "execution_count": 49,
   "metadata": {},
   "outputs": [],
   "source": [
    "coverages = coverages.drop([\n",
    "       'Estimated number of people living with HIV','Estimated ART coverage among people living with HIV (%)',\n",
    "       'Estimated number of people living with HIV_min',\n",
    "       'Estimated number of people living with HIV_median',\n",
    "       'Estimated number of people living with HIV_max',\n",
    "       'Estimated ART coverage among people living with HIV (%)_min',\n",
    "       'Estimated ART coverage among people living with HIV (%)_max'],axis=1)"
   ]
  },
  {
   "cell_type": "code",
   "execution_count": 50,
   "metadata": {},
   "outputs": [],
   "source": [
    "coverages[\"ART\"] = coverages[\"Reported number of people receiving ART\"];\n",
    "coverages[\"ART\"] = pd.to_numeric(coverages[\"ART\"], errors='coerce');\n",
    "coverages[\"ART\"] = coverages.ART.astype(float);"
   ]
  },
  {
   "cell_type": "code",
   "execution_count": 51,
   "metadata": {},
   "outputs": [
    {
     "name": "stdout",
     "output_type": "stream",
     "text": [
      "<class 'pandas.core.frame.DataFrame'>\n",
      "Index: 136 entries, 0 to 169\n",
      "Data columns (total 5 columns):\n",
      " #   Column                                                          Non-Null Count  Dtype  \n",
      "---  ------                                                          --------------  -----  \n",
      " 0   Country                                                         136 non-null    object \n",
      " 1   Reported number of people receiving ART                         136 non-null    object \n",
      " 2   Estimated ART coverage among people living with HIV (%)_median  136 non-null    float64\n",
      " 3   WHO Region                                                      136 non-null    object \n",
      " 4   ART                                                             136 non-null    float64\n",
      "dtypes: float64(2), object(3)\n",
      "memory usage: 6.4+ KB\n"
     ]
    }
   ],
   "source": [
    "coverages.info()"
   ]
  },
  {
   "cell_type": "code",
   "execution_count": 52,
   "metadata": {},
   "outputs": [
    {
     "data": {
      "text/plain": [
       "WHO Region\n",
       "Africa                   16299000.0\n",
       "Americas                  1391900.0\n",
       "Eastern Mediterranean       75460.0\n",
       "Europe                     750910.0\n",
       "South-East Asia            655980.0\n",
       "Western Pacific            376100.0\n",
       "Name: ART, dtype: float64"
      ]
     },
     "execution_count": 52,
     "metadata": {},
     "output_type": "execute_result"
    }
   ],
   "source": [
    "coveragebyregion = coverages.groupby('WHO Region').sum()[\"ART\"];\n",
    "coveragebyregion"
   ]
  },
  {
   "cell_type": "code",
   "execution_count": 53,
   "metadata": {},
   "outputs": [
    {
     "data": {
      "image/png": "[encoded data removed]",
      "text/plain": [
       "<Figure size 1000x500 with 1 Axes>"
      ]
     },
     "metadata": {},
     "output_type": "display_data"
    }
   ],
   "source": [
    "plt.figure(figsize=(10, 5))\n",
    "sns.barplot(x = coveragebyregion.index, y = coveragebyregion);\n",
    "plt.title('People receiving ART by region and year');\n",
    "plt.show()"
   ]
  },
  {
   "cell_type": "code",
   "execution_count": 54,
   "metadata": {},
   "outputs": [
    {
     "data": {
      "text/html": [
       "<div>\n",
       "<style scoped>\n",
       "    .dataframe tbody tr th:only-of-type {\n",
       "        vertical-align: middle;\n",
       "    }\n",
       "\n",
       "    .dataframe tbody tr th {\n",
       "        vertical-align: top;\n",
       "    }\n",
       "\n",
       "    .dataframe thead th {\n",
       "        text-align: right;\n",
       "    }\n",
       "</style>\n",
       "<table border=\"1\" class=\"dataframe\">\n",
       "  <thead>\n",
       "    <tr style=\"text-align: right;\">\n",
       "      <th></th>\n",
       "      <th>Country</th>\n",
       "      <th>Reported number of people receiving ART</th>\n",
       "      <th>Estimated ART coverage among people living with HIV (%)_median</th>\n",
       "      <th>WHO Region</th>\n",
       "      <th>ART</th>\n",
       "    </tr>\n",
       "  </thead>\n",
       "  <tbody>\n",
       "    <tr>\n",
       "      <th>0</th>\n",
       "      <td>Afghanistan</td>\n",
       "      <td>920</td>\n",
       "      <td>13.0</td>\n",
       "      <td>Eastern Mediterranean</td>\n",
       "      <td>920.0</td>\n",
       "    </tr>\n",
       "    <tr>\n",
       "      <th>2</th>\n",
       "      <td>Algeria</td>\n",
       "      <td>12800</td>\n",
       "      <td>81.0</td>\n",
       "      <td>Africa</td>\n",
       "      <td>12800.0</td>\n",
       "    </tr>\n",
       "    <tr>\n",
       "      <th>3</th>\n",
       "      <td>Angola</td>\n",
       "      <td>88700</td>\n",
       "      <td>27.0</td>\n",
       "      <td>Africa</td>\n",
       "      <td>88700.0</td>\n",
       "    </tr>\n",
       "    <tr>\n",
       "      <th>4</th>\n",
       "      <td>Argentina</td>\n",
       "      <td>85500</td>\n",
       "      <td>61.0</td>\n",
       "      <td>Americas</td>\n",
       "      <td>85500.0</td>\n",
       "    </tr>\n",
       "    <tr>\n",
       "      <th>5</th>\n",
       "      <td>Armenia</td>\n",
       "      <td>1900</td>\n",
       "      <td>53.0</td>\n",
       "      <td>Europe</td>\n",
       "      <td>1900.0</td>\n",
       "    </tr>\n",
       "  </tbody>\n",
       "</table>\n",
       "</div>"
      ],
      "text/plain": [
       "       Country Reported number of people receiving ART  \\\n",
       "0  Afghanistan                                     920   \n",
       "2      Algeria                                   12800   \n",
       "3       Angola                                   88700   \n",
       "4    Argentina                                   85500   \n",
       "5      Armenia                                    1900   \n",
       "\n",
       "   Estimated ART coverage among people living with HIV (%)_median  \\\n",
       "0                                               13.0                \n",
       "2                                               81.0                \n",
       "3                                               27.0                \n",
       "4                                               61.0                \n",
       "5                                               53.0                \n",
       "\n",
       "              WHO Region      ART  \n",
       "0  Eastern Mediterranean    920.0  \n",
       "2                 Africa  12800.0  \n",
       "3                 Africa  88700.0  \n",
       "4               Americas  85500.0  \n",
       "5                 Europe   1900.0  "
      ]
     },
     "execution_count": 54,
     "metadata": {},
     "output_type": "execute_result"
    }
   ],
   "source": [
    "coverages.head()"
   ]
  },
  {
   "cell_type": "code",
   "execution_count": 55,
   "metadata": {},
   "outputs": [],
   "source": [
    "cover = pd.read_csv(\"archive/art_coverage_by_country_clean.csv\")\n",
    "cover = cover.dropna()\n",
    "\n",
    "cover = cover.drop([\n",
    "       'Estimated number of people living with HIV',\n",
    "       'Estimated ART coverage among people living with HIV (%)',\n",
    "       'WHO Region'], axis=1);"
   ]
  },
  {
   "cell_type": "code",
   "execution_count": 56,
   "metadata": {},
   "outputs": [],
   "source": [
    "mp = {}\n",
    "cnt = 0;\n",
    "for i in cover['Country']:\n",
    "    if i not in mp:\n",
    "        mp[i] = cnt;\n",
    "        cnt += 1;\n",
    "cover['Country'] = cover['Country'].map(mp);"
   ]
  },
  {
   "cell_type": "code",
   "execution_count": 57,
   "metadata": {},
   "outputs": [
    {
     "data": {
      "text/html": [
       "<div>\n",
       "<style scoped>\n",
       "    .dataframe tbody tr th:only-of-type {\n",
       "        vertical-align: middle;\n",
       "    }\n",
       "\n",
       "    .dataframe tbody tr th {\n",
       "        vertical-align: top;\n",
       "    }\n",
       "\n",
       "    .dataframe thead th {\n",
       "        text-align: right;\n",
       "    }\n",
       "</style>\n",
       "<table border=\"1\" class=\"dataframe\">\n",
       "  <thead>\n",
       "    <tr style=\"text-align: right;\">\n",
       "      <th></th>\n",
       "      <th>Country</th>\n",
       "      <th>Reported number of people receiving ART</th>\n",
       "      <th>Estimated number of people living with HIV_median</th>\n",
       "      <th>Estimated number of people living with HIV_min</th>\n",
       "      <th>Estimated number of people living with HIV_max</th>\n",
       "      <th>Estimated ART coverage among people living with HIV (%)_median</th>\n",
       "      <th>Estimated ART coverage among people living with HIV (%)_min</th>\n",
       "      <th>Estimated ART coverage among people living with HIV (%)_max</th>\n",
       "    </tr>\n",
       "  </thead>\n",
       "  <tbody>\n",
       "    <tr>\n",
       "      <th>0</th>\n",
       "      <td>0</td>\n",
       "      <td>920</td>\n",
       "      <td>7200.0</td>\n",
       "      <td>4100.0</td>\n",
       "      <td>11000.0</td>\n",
       "      <td>13.0</td>\n",
       "      <td>7.0</td>\n",
       "      <td>20.0</td>\n",
       "    </tr>\n",
       "    <tr>\n",
       "      <th>2</th>\n",
       "      <td>1</td>\n",
       "      <td>12800</td>\n",
       "      <td>16000.0</td>\n",
       "      <td>15000.0</td>\n",
       "      <td>17000.0</td>\n",
       "      <td>81.0</td>\n",
       "      <td>75.0</td>\n",
       "      <td>86.0</td>\n",
       "    </tr>\n",
       "    <tr>\n",
       "      <th>3</th>\n",
       "      <td>2</td>\n",
       "      <td>88700</td>\n",
       "      <td>330000.0</td>\n",
       "      <td>290000.0</td>\n",
       "      <td>390000.0</td>\n",
       "      <td>27.0</td>\n",
       "      <td>23.0</td>\n",
       "      <td>31.0</td>\n",
       "    </tr>\n",
       "    <tr>\n",
       "      <th>4</th>\n",
       "      <td>3</td>\n",
       "      <td>85500</td>\n",
       "      <td>140000.0</td>\n",
       "      <td>130000.0</td>\n",
       "      <td>150000.0</td>\n",
       "      <td>61.0</td>\n",
       "      <td>55.0</td>\n",
       "      <td>67.0</td>\n",
       "    </tr>\n",
       "    <tr>\n",
       "      <th>5</th>\n",
       "      <td>4</td>\n",
       "      <td>1900</td>\n",
       "      <td>3500.0</td>\n",
       "      <td>3000.0</td>\n",
       "      <td>4400.0</td>\n",
       "      <td>53.0</td>\n",
       "      <td>44.0</td>\n",
       "      <td>65.0</td>\n",
       "    </tr>\n",
       "  </tbody>\n",
       "</table>\n",
       "</div>"
      ],
      "text/plain": [
       "   Country Reported number of people receiving ART  \\\n",
       "0        0                                     920   \n",
       "2        1                                   12800   \n",
       "3        2                                   88700   \n",
       "4        3                                   85500   \n",
       "5        4                                    1900   \n",
       "\n",
       "   Estimated number of people living with HIV_median  \\\n",
       "0                                             7200.0   \n",
       "2                                            16000.0   \n",
       "3                                           330000.0   \n",
       "4                                           140000.0   \n",
       "5                                             3500.0   \n",
       "\n",
       "   Estimated number of people living with HIV_min  \\\n",
       "0                                          4100.0   \n",
       "2                                         15000.0   \n",
       "3                                        290000.0   \n",
       "4                                        130000.0   \n",
       "5                                          3000.0   \n",
       "\n",
       "   Estimated number of people living with HIV_max  \\\n",
       "0                                         11000.0   \n",
       "2                                         17000.0   \n",
       "3                                        390000.0   \n",
       "4                                        150000.0   \n",
       "5                                          4400.0   \n",
       "\n",
       "   Estimated ART coverage among people living with HIV (%)_median  \\\n",
       "0                                               13.0                \n",
       "2                                               81.0                \n",
       "3                                               27.0                \n",
       "4                                               61.0                \n",
       "5                                               53.0                \n",
       "\n",
       "   Estimated ART coverage among people living with HIV (%)_min  \\\n",
       "0                                                7.0             \n",
       "2                                               75.0             \n",
       "3                                               23.0             \n",
       "4                                               55.0             \n",
       "5                                               44.0             \n",
       "\n",
       "   Estimated ART coverage among people living with HIV (%)_max  \n",
       "0                                               20.0            \n",
       "2                                               86.0            \n",
       "3                                               31.0            \n",
       "4                                               67.0            \n",
       "5                                               65.0            "
      ]
     },
     "execution_count": 57,
     "metadata": {},
     "output_type": "execute_result"
    }
   ],
   "source": [
    "cover.head()"
   ]
  },
  {
   "cell_type": "code",
   "execution_count": 58,
   "metadata": {},
   "outputs": [
    {
     "name": "stdout",
     "output_type": "stream",
     "text": [
      "<class 'pandas.core.frame.DataFrame'>\n",
      "Index: 136 entries, 0 to 169\n",
      "Data columns (total 8 columns):\n",
      " #   Column                                                          Non-Null Count  Dtype  \n",
      "---  ------                                                          --------------  -----  \n",
      " 0   Country                                                         136 non-null    int64  \n",
      " 1   Reported number of people receiving ART                         136 non-null    object \n",
      " 2   Estimated number of people living with HIV_median               136 non-null    float64\n",
      " 3   Estimated number of people living with HIV_min                  136 non-null    float64\n",
      " 4   Estimated number of people living with HIV_max                  136 non-null    float64\n",
      " 5   Estimated ART coverage among people living with HIV (%)_median  136 non-null    float64\n",
      " 6   Estimated ART coverage among people living with HIV (%)_min     136 non-null    float64\n",
      " 7   Estimated ART coverage among people living with HIV (%)_max     136 non-null    float64\n",
      "dtypes: float64(6), int64(1), object(1)\n",
      "memory usage: 9.6+ KB\n"
     ]
    }
   ],
   "source": [
    "cover.info()"
   ]
  },
  {
   "cell_type": "code",
   "execution_count": 59,
   "metadata": {},
   "outputs": [],
   "source": [
    "from sklearn import preprocessing as pp"
   ]
  },
  {
   "cell_type": "code",
   "execution_count": 60,
   "metadata": {},
   "outputs": [
    {
     "data": {
      "text/plain": [
       "array([[-1.71936162, -0.30254786, -0.29840881, ..., -2.12523784,\n",
       "        -2.17402087, -2.09325126],\n",
       "       [-1.6938896 , -0.27738236, -0.28660829, ...,  1.27102958,\n",
       "         1.53750673,  0.94115173],\n",
       "       [-1.66841757, -0.11660275,  0.13445572, ..., -1.42600631,\n",
       "        -1.30072026, -1.58751743],\n",
       "       ...,\n",
       "       [ 1.66841757, -0.29983642, -0.29331313, ..., -1.72567697,\n",
       "        -1.90111443, -1.40361422],\n",
       "       [ 1.6938896 ,  1.73967087,  1.30109805, ...,  1.12119425,\n",
       "         1.210019  ,  1.03310334],\n",
       "       [ 1.71936162,  2.13367622,  1.43519486, ...,  1.62064534,\n",
       "         1.64666931,  1.35493396]])"
      ]
     },
     "execution_count": 60,
     "metadata": {},
     "output_type": "execute_result"
    }
   ],
   "source": [
    "# print(cover.mean())\n",
    "pp.scale(cover)"
   ]
  },
  {
   "cell_type": "code",
   "execution_count": 61,
   "metadata": {},
   "outputs": [
    {
     "data": {
      "text/plain": [
       "array([[0., 1., 1., ..., 1., 1., 1.],\n",
       "       [0., 1., 1., ..., 1., 1., 1.],\n",
       "       [1., 1., 1., ..., 1., 1., 1.],\n",
       "       ...,\n",
       "       [1., 1., 1., ..., 1., 1., 1.],\n",
       "       [1., 1., 1., ..., 1., 1., 1.],\n",
       "       [1., 1., 1., ..., 1., 1., 1.]])"
      ]
     },
     "execution_count": 61,
     "metadata": {},
     "output_type": "execute_result"
    }
   ],
   "source": [
    "# pp.normalize(cover)\n",
    "pp.binarize(cover, threshold=1)"
   ]
  },
  {
   "cell_type": "code",
   "execution_count": 62,
   "metadata": {},
   "outputs": [
    {
     "data": {
      "text/html": [
       "<div>\n",
       "<style scoped>\n",
       "    .dataframe tbody tr th:only-of-type {\n",
       "        vertical-align: middle;\n",
       "    }\n",
       "\n",
       "    .dataframe tbody tr th {\n",
       "        vertical-align: top;\n",
       "    }\n",
       "\n",
       "    .dataframe thead th {\n",
       "        text-align: right;\n",
       "    }\n",
       "</style>\n",
       "<table border=\"1\" class=\"dataframe\">\n",
       "  <thead>\n",
       "    <tr style=\"text-align: right;\">\n",
       "      <th></th>\n",
       "      <th>Country</th>\n",
       "      <th>Reported number of people receiving ART</th>\n",
       "      <th>Estimated number of people living with HIV_median</th>\n",
       "      <th>Estimated number of people living with HIV_min</th>\n",
       "      <th>Estimated number of people living with HIV_max</th>\n",
       "      <th>Estimated ART coverage among people living with HIV (%)_median</th>\n",
       "      <th>Estimated ART coverage among people living with HIV (%)_min</th>\n",
       "      <th>Estimated ART coverage among people living with HIV (%)_max</th>\n",
       "    </tr>\n",
       "  </thead>\n",
       "  <tbody>\n",
       "    <tr>\n",
       "      <th>0</th>\n",
       "      <td>0</td>\n",
       "      <td>920</td>\n",
       "      <td>7200.0</td>\n",
       "      <td>4100.0</td>\n",
       "      <td>11000.0</td>\n",
       "      <td>13.0</td>\n",
       "      <td>7.0</td>\n",
       "      <td>20.0</td>\n",
       "    </tr>\n",
       "    <tr>\n",
       "      <th>2</th>\n",
       "      <td>1</td>\n",
       "      <td>12800</td>\n",
       "      <td>16000.0</td>\n",
       "      <td>15000.0</td>\n",
       "      <td>17000.0</td>\n",
       "      <td>81.0</td>\n",
       "      <td>75.0</td>\n",
       "      <td>86.0</td>\n",
       "    </tr>\n",
       "    <tr>\n",
       "      <th>3</th>\n",
       "      <td>2</td>\n",
       "      <td>88700</td>\n",
       "      <td>330000.0</td>\n",
       "      <td>290000.0</td>\n",
       "      <td>390000.0</td>\n",
       "      <td>27.0</td>\n",
       "      <td>23.0</td>\n",
       "      <td>31.0</td>\n",
       "    </tr>\n",
       "    <tr>\n",
       "      <th>4</th>\n",
       "      <td>3</td>\n",
       "      <td>85500</td>\n",
       "      <td>140000.0</td>\n",
       "      <td>130000.0</td>\n",
       "      <td>150000.0</td>\n",
       "      <td>61.0</td>\n",
       "      <td>55.0</td>\n",
       "      <td>67.0</td>\n",
       "    </tr>\n",
       "    <tr>\n",
       "      <th>5</th>\n",
       "      <td>4</td>\n",
       "      <td>1900</td>\n",
       "      <td>3500.0</td>\n",
       "      <td>3000.0</td>\n",
       "      <td>4400.0</td>\n",
       "      <td>53.0</td>\n",
       "      <td>44.0</td>\n",
       "      <td>65.0</td>\n",
       "    </tr>\n",
       "  </tbody>\n",
       "</table>\n",
       "</div>"
      ],
      "text/plain": [
       "   Country Reported number of people receiving ART  \\\n",
       "0        0                                     920   \n",
       "2        1                                   12800   \n",
       "3        2                                   88700   \n",
       "4        3                                   85500   \n",
       "5        4                                    1900   \n",
       "\n",
       "   Estimated number of people living with HIV_median  \\\n",
       "0                                             7200.0   \n",
       "2                                            16000.0   \n",
       "3                                           330000.0   \n",
       "4                                           140000.0   \n",
       "5                                             3500.0   \n",
       "\n",
       "   Estimated number of people living with HIV_min  \\\n",
       "0                                          4100.0   \n",
       "2                                         15000.0   \n",
       "3                                        290000.0   \n",
       "4                                        130000.0   \n",
       "5                                          3000.0   \n",
       "\n",
       "   Estimated number of people living with HIV_max  \\\n",
       "0                                         11000.0   \n",
       "2                                         17000.0   \n",
       "3                                        390000.0   \n",
       "4                                        150000.0   \n",
       "5                                          4400.0   \n",
       "\n",
       "   Estimated ART coverage among people living with HIV (%)_median  \\\n",
       "0                                               13.0                \n",
       "2                                               81.0                \n",
       "3                                               27.0                \n",
       "4                                               61.0                \n",
       "5                                               53.0                \n",
       "\n",
       "   Estimated ART coverage among people living with HIV (%)_min  \\\n",
       "0                                                7.0             \n",
       "2                                               75.0             \n",
       "3                                               23.0             \n",
       "4                                               55.0             \n",
       "5                                               44.0             \n",
       "\n",
       "   Estimated ART coverage among people living with HIV (%)_max  \n",
       "0                                               20.0            \n",
       "2                                               86.0            \n",
       "3                                               31.0            \n",
       "4                                               67.0            \n",
       "5                                               65.0            "
      ]
     },
     "execution_count": 62,
     "metadata": {},
     "output_type": "execute_result"
    }
   ],
   "source": [
    "df = pd.DataFrame(cover, columns=cover.columns)\n",
    "df.head()"
   ]
  },
  {
   "cell_type": "code",
   "execution_count": 63,
   "metadata": {},
   "outputs": [],
   "source": [
    "coverages.head()\n",
    "\n",
    "coveragebyregion1 = coverages.groupby('WHO Region').sum()[\"Estimated ART coverage among people living with HIV (%)_median\"];\n",
    "\n",
    "cnt = {}\n",
    "label = ['Eastern Mediterranean', 'Africa', 'Americas', 'Europe', 'Western Pacific', 'South-East Asia'];\n",
    "\n",
    "for i in coverages['WHO Region']:\n",
    "    if i not in cnt: cnt[i] = 1;\n",
    "    else: cnt[i] += 1;\n",
    "\n",
    "for i in label: \n",
    "    coveragebyregion1[i] /= cnt[i];"
   ]
  },
  {
   "cell_type": "code",
   "execution_count": 64,
   "metadata": {},
   "outputs": [
    {
     "data": {
      "image/png": "[encoded data removed]",
      "text/plain": [
       "<Figure size 1000x500 with 1 Axes>"
      ]
     },
     "metadata": {},
     "output_type": "display_data"
    }
   ],
   "source": [
    "plt.figure(figsize=(10, 5))\n",
    "sns.barplot(x = coveragebyregion1.index, y = coveragebyregion1);\n",
    "plt.title(\"Estimated ART Coverage(%) by region and year\");\n",
    "plt.show()"
   ]
  },
  {
   "cell_type": "markdown",
   "metadata": {},
   "source": [
    "### W4_課堂練習"
   ]
  },
  {
   "cell_type": "code",
   "execution_count": 65,
   "metadata": {},
   "outputs": [
    {
     "name": "stdout",
     "output_type": "stream",
     "text": [
      "[6, 12, 17, 21, 22, 29, 29, 35, 42]\n"
     ]
    }
   ],
   "source": [
    "num = [17, 42, 35, 29, 12, 21, 6, 29, 22];\n",
    "num.sort();\n",
    "print(num);"
   ]
  },
  {
   "cell_type": "code",
   "execution_count": 66,
   "metadata": {},
   "outputs": [
    {
     "name": "stdout",
     "output_type": "stream",
     "text": [
      "12.0\n"
     ]
    }
   ],
   "source": [
    "mx = num[-1];\n",
    "mn = num[0];\n",
    "\n",
    "Width = (mx - mn) / 3;\n",
    "print(Width);"
   ]
  },
  {
   "cell_type": "markdown",
   "metadata": {},
   "source": [
    "#### Equal Width"
   ]
  },
  {
   "cell_type": "code",
   "execution_count": 67,
   "metadata": {},
   "outputs": [
    {
     "name": "stdout",
     "output_type": "stream",
     "text": [
      "[6, 12, 17]\n",
      "[21, 22, 29, 29]\n",
      "[35, 42]\n"
     ]
    }
   ],
   "source": [
    "b1 = []; b2 = []; b3 = [];\n",
    "for i in num: \n",
    "    if (i <= mn + Width): b1.append(i);\n",
    "    elif (i <= mn + 2 * Width): b2.append(i);\n",
    "    else: b3.append(i);\n",
    "\n",
    "print(b1)\n",
    "print(b2)\n",
    "print(b3)"
   ]
  },
  {
   "cell_type": "markdown",
   "metadata": {},
   "source": [
    "#### Means"
   ]
  },
  {
   "cell_type": "code",
   "execution_count": 68,
   "metadata": {},
   "outputs": [
    {
     "name": "stdout",
     "output_type": "stream",
     "text": [
      "[11.67, 11.67, 11.67]\n",
      "[25.25, 25.25, 25.25, 25.25]\n",
      "[38.5, 38.5]\n"
     ]
    }
   ],
   "source": [
    "means1 = np.mean(b1);\n",
    "means2 = np.mean(b2);\n",
    "means3 = np.mean(b3);\n",
    "\n",
    "m1 = []; m2 = []; m3 = [];\n",
    "\n",
    "for i in b1: m1.append(means1);\n",
    "for i in b2: m2.append(means2);\n",
    "for i in b3: m3.append(means3);\n",
    "\n",
    "print([round(a, 2) for a in m1]);\n",
    "print([round(a, 2) for a in m2]);\n",
    "print([round(a, 2) for a in m3]);"
   ]
  },
  {
   "cell_type": "markdown",
   "metadata": {},
   "source": [
    "#### Median"
   ]
  },
  {
   "cell_type": "code",
   "execution_count": 69,
   "metadata": {},
   "outputs": [
    {
     "name": "stdout",
     "output_type": "stream",
     "text": [
      "[12.0, 12.0, 12.0]\n",
      "[25.5, 25.5, 25.5, 25.5]\n",
      "[38.5, 38.5]\n"
     ]
    }
   ],
   "source": [
    "median1 = np.median(b1);\n",
    "median2 = np.median(b2);\n",
    "median3 = np.median(b3);\n",
    "\n",
    "med1 = []; med2 = []; med3 = [];\n",
    "for i in b1: med1.append(median1);\n",
    "for i in b2: med2.append(median2);\n",
    "for i in b3: med3.append(median3);\n",
    "\n",
    "print(med1)\n",
    "print(med2)\n",
    "print(med3)"
   ]
  },
  {
   "cell_type": "markdown",
   "metadata": {},
   "source": [
    "#### Boundries"
   ]
  },
  {
   "cell_type": "code",
   "execution_count": 70,
   "metadata": {},
   "outputs": [
    {
     "name": "stdout",
     "output_type": "stream",
     "text": [
      "[6, 17, 17]\n",
      "[21, 21, 29, 29]\n",
      "[35, 42]\n"
     ]
    }
   ],
   "source": [
    "Boundries1 = []; Boundries2 = []; Boundries3 = [];\n",
    "\n",
    "for i in b1:\n",
    "    if (abs(i - b1[0]) < abs(i - b1[-1])): Boundries1.append(b1[0]);\n",
    "    else: Boundries1.append(b1[-1]);\n",
    "\n",
    "for i in b2:\n",
    "    if (abs(i - b2[0]) < abs(i - b2[-1])): Boundries2.append(b2[0]);\n",
    "    else: Boundries2.append(b2[-1]);\n",
    "\n",
    "for i in b3:\n",
    "    if (abs(i - b3[0]) < abs(i - b3[-1])): Boundries3.append(b3[0]);\n",
    "    else: Boundries3.append(b3[-1]);\n",
    "\n",
    "print(Boundries1)\n",
    "print(Boundries2)\n",
    "print(Boundries3)"
   ]
  },
  {
   "cell_type": "markdown",
   "metadata": {},
   "source": [
    "### W4課堂練習_2"
   ]
  },
  {
   "cell_type": "markdown",
   "metadata": {},
   "source": [
    "> Min-Max Normalization"
   ]
  },
  {
   "cell_type": "code",
   "execution_count": 71,
   "metadata": {},
   "outputs": [
    {
     "name": "stdout",
     "output_type": "stream",
     "text": [
      "[0.0, 0.125, 0.25, 0.5, 1.0]\n"
     ]
    }
   ],
   "source": [
    "arr = [200, 300, 400, 600, 1000];\n",
    "tmp = arr[0::];\n",
    "tmp.sort();\n",
    "mn = tmp[0]; mx = tmp[-1];\n",
    "\n",
    "nor = [];\n",
    "\n",
    "for i in arr:\n",
    "    nor.append((i - mn) / (mx - mn));\n",
    "\n",
    "print(nor)\n"
   ]
  },
  {
   "cell_type": "markdown",
   "metadata": {},
   "source": [
    "> Z-Score Normalization"
   ]
  },
  {
   "cell_type": "code",
   "execution_count": 72,
   "metadata": {},
   "outputs": [
    {
     "name": "stdout",
     "output_type": "stream",
     "text": [
      "[-1.0607, -0.7071, -0.3536, 0.3536, 1.7678]\n"
     ]
    }
   ],
   "source": [
    "mean = np.mean(arr);\n",
    "SD = np.std(arr);\n",
    "\n",
    "z = [];\n",
    "for i in arr:\n",
    "    z.append((i - mean) / SD);\n",
    "\n",
    "print([round(a, 4) for a in z]);"
   ]
  },
  {
   "cell_type": "markdown",
   "metadata": {},
   "source": [
    "### Week 5"
   ]
  },
  {
   "cell_type": "code",
   "execution_count": 84,
   "metadata": {},
   "outputs": [],
   "source": [
    "from sklearn import feature_selection as fs\n",
    "from sklearn import tree\n",
    "from sklearn import ensemble as es\n",
    "from sklearn import decomposition as dc"
   ]
  },
  {
   "cell_type": "code",
   "execution_count": 122,
   "metadata": {},
   "outputs": [
    {
     "data": {
      "text/html": [
       "<div>\n",
       "<style scoped>\n",
       "    .dataframe tbody tr th:only-of-type {\n",
       "        vertical-align: middle;\n",
       "    }\n",
       "\n",
       "    .dataframe tbody tr th {\n",
       "        vertical-align: top;\n",
       "    }\n",
       "\n",
       "    .dataframe thead th {\n",
       "        text-align: right;\n",
       "    }\n",
       "</style>\n",
       "<table border=\"1\" class=\"dataframe\">\n",
       "  <thead>\n",
       "    <tr style=\"text-align: right;\">\n",
       "      <th></th>\n",
       "      <th>Estimated ART coverage among people living with HIV (%)_median</th>\n",
       "      <th>Estimated ART coverage among people living with HIV (%)_min</th>\n",
       "      <th>Estimated ART coverage among people living with HIV (%)_max</th>\n",
       "      <th>WHO Region</th>\n",
       "    </tr>\n",
       "  </thead>\n",
       "  <tbody>\n",
       "    <tr>\n",
       "      <th>0</th>\n",
       "      <td>13.0</td>\n",
       "      <td>7.0</td>\n",
       "      <td>20.0</td>\n",
       "      <td>Eastern Mediterranean</td>\n",
       "    </tr>\n",
       "    <tr>\n",
       "      <th>2</th>\n",
       "      <td>81.0</td>\n",
       "      <td>75.0</td>\n",
       "      <td>86.0</td>\n",
       "      <td>Africa</td>\n",
       "    </tr>\n",
       "    <tr>\n",
       "      <th>3</th>\n",
       "      <td>27.0</td>\n",
       "      <td>23.0</td>\n",
       "      <td>31.0</td>\n",
       "      <td>Africa</td>\n",
       "    </tr>\n",
       "    <tr>\n",
       "      <th>4</th>\n",
       "      <td>61.0</td>\n",
       "      <td>55.0</td>\n",
       "      <td>67.0</td>\n",
       "      <td>Americas</td>\n",
       "    </tr>\n",
       "    <tr>\n",
       "      <th>5</th>\n",
       "      <td>53.0</td>\n",
       "      <td>44.0</td>\n",
       "      <td>65.0</td>\n",
       "      <td>Europe</td>\n",
       "    </tr>\n",
       "  </tbody>\n",
       "</table>\n",
       "</div>"
      ],
      "text/plain": [
       "   Estimated ART coverage among people living with HIV (%)_median  \\\n",
       "0                                               13.0                \n",
       "2                                               81.0                \n",
       "3                                               27.0                \n",
       "4                                               61.0                \n",
       "5                                               53.0                \n",
       "\n",
       "   Estimated ART coverage among people living with HIV (%)_min  \\\n",
       "0                                                7.0             \n",
       "2                                               75.0             \n",
       "3                                               23.0             \n",
       "4                                               55.0             \n",
       "5                                               44.0             \n",
       "\n",
       "   Estimated ART coverage among people living with HIV (%)_max  \\\n",
       "0                                               20.0             \n",
       "2                                               86.0             \n",
       "3                                               31.0             \n",
       "4                                               67.0             \n",
       "5                                               65.0             \n",
       "\n",
       "              WHO Region  \n",
       "0  Eastern Mediterranean  \n",
       "2                 Africa  \n",
       "3                 Africa  \n",
       "4               Americas  \n",
       "5                 Europe  "
      ]
     },
     "execution_count": 122,
     "metadata": {},
     "output_type": "execute_result"
    }
   ],
   "source": [
    "df = pd.read_csv(\"archive/art_coverage_by_country_clean.csv\")\n",
    "df = df.dropna()\n",
    "\n",
    "# df.head()\n",
    "df = df.drop(['Estimated number of people living with HIV_min',\n",
    "       'Estimated number of people living with HIV_median',\n",
    "       'Estimated number of people living with HIV_max', \"Reported number of people receiving ART\", \"Estimated number of people living with HIV\", \"Country\", \"Estimated ART coverage among people living with HIV (%)\"], axis = 1);\n",
    "\n",
    "df.head()"
   ]
  },
  {
   "cell_type": "code",
   "execution_count": 123,
   "metadata": {},
   "outputs": [],
   "source": [
    "label: list[str] = ['Eastern Mediterranean', 'Africa', 'Americas', 'Europe', 'Western Pacific', 'South-East Asia'];\n",
    "cnt: list[int] = [i for i in range(len(label))];\n",
    "\n",
    "mp = {};\n",
    "for i in range(len(label)):\n",
    "    mp[label[i]] = cnt[i];\n",
    "\n",
    "df['WHO Region'] = df['WHO Region'].map(mp);"
   ]
  },
  {
   "cell_type": "code",
   "execution_count": 124,
   "metadata": {},
   "outputs": [],
   "source": [
    "df.head()\n",
    "\n",
    "target = df['WHO Region'];\n",
    "df = df.drop(['WHO Region'], axis = 1);"
   ]
  },
  {
   "cell_type": "code",
   "execution_count": 125,
   "metadata": {},
   "outputs": [],
   "source": [
    "skb = fs.SelectKBest(fs.f_classif, k=3);\n",
    "\n",
    "skb.fit_transform(df, target);"
   ]
  },
  {
   "cell_type": "code",
   "execution_count": 126,
   "metadata": {},
   "outputs": [
    {
     "data": {
      "text/plain": [
       "array([0.35151865, 0.36628282, 0.28219853])"
      ]
     },
     "execution_count": 126,
     "metadata": {},
     "output_type": "execute_result"
    }
   ],
   "source": [
    "tc = tree.DecisionTreeClassifier();\n",
    "tc.fit(df, target);\n",
    "tc.feature_importances_"
   ]
  },
  {
   "cell_type": "code",
   "execution_count": 127,
   "metadata": {},
   "outputs": [
    {
     "data": {
      "text/plain": [
       "array([0.33244131, 0.34409665, 0.32346205])"
      ]
     },
     "execution_count": 127,
     "metadata": {},
     "output_type": "execute_result"
    }
   ],
   "source": [
    "rfc = es.RandomForestClassifier(n_estimators=1000);\n",
    "rfc.fit(df, target);\n",
    "rfc.feature_importances_"
   ]
  },
  {
   "cell_type": "code",
   "execution_count": 128,
   "metadata": {},
   "outputs": [
    {
     "name": "stderr",
     "output_type": "stream",
     "text": [
      "/Users/stationshih/miniforge3/envs/env/lib/python3.9/site-packages/sklearn/base.py:458: UserWarning: X has feature names, but SelectFromModel was fitted without feature names\n",
      "  warnings.warn(\n"
     ]
    },
    {
     "data": {
      "text/plain": [
       "array([[13.,  7., 20.],\n",
       "       [81., 75., 86.],\n",
       "       [27., 23., 31.],\n",
       "       [61., 55., 67.],\n",
       "       [53., 44., 65.],\n",
       "       [83., 70., 93.],\n",
       "       [52., 45., 58.],\n",
       "       [22., 19., 25.],\n",
       "       [50., 44., 57.],\n",
       "       [59., 48., 75.],\n",
       "       [28., 26., 31.],\n",
       "       [61., 40., 95.],\n",
       "       [37., 20., 78.],\n",
       "       [44., 40., 48.],\n",
       "       [67., 57., 78.],\n",
       "       [83., 75., 90.],\n",
       "       [66., 51., 82.],\n",
       "       [41., 35., 48.],\n",
       "       [62., 50., 75.],\n",
       "       [80., 69., 94.],\n",
       "       [89., 75., 95.],\n",
       "       [81., 71., 93.],\n",
       "       [52., 46., 57.],\n",
       "       [36., 30., 45.],\n",
       "       [51., 40., 63.],\n",
       "       [63., 56., 70.],\n",
       "       [73., 60., 86.],\n",
       "       [79., 39., 95.],\n",
       "       [35., 27., 46.],\n",
       "       [49., 44., 54.],\n",
       "       [55., 44., 70.],\n",
       "       [75., 67., 83.],\n",
       "       [72., 55., 85.],\n",
       "       [60., 51., 68.],\n",
       "       [57., 47., 67.],\n",
       "       [89., 79., 95.],\n",
       "       [30., 25., 38.],\n",
       "       [56., 43., 73.],\n",
       "       [57., 38., 93.],\n",
       "       [31., 28., 33.],\n",
       "       [47., 39., 55.],\n",
       "       [34., 27., 44.],\n",
       "       [51., 38., 68.],\n",
       "       [59., 53., 66.],\n",
       "       [86., 80., 94.],\n",
       "       [65., 50., 85.],\n",
       "       [76., 60., 95.],\n",
       "       [83., 69., 95.],\n",
       "       [67., 54., 85.],\n",
       "       [29., 24., 38.],\n",
       "       [49., 42., 57.],\n",
       "       [80., 65., 93.],\n",
       "       [34., 28., 39.],\n",
       "       [43., 40., 47.],\n",
       "       [40., 34., 48.],\n",
       "       [33., 29., 37.],\n",
       "       [68., 60., 78.],\n",
       "       [58., 52., 65.],\n",
       "       [50., 40., 61.],\n",
       "       [56., 48., 63.],\n",
       "       [79., 71., 87.],\n",
       "       [17., 15., 20.],\n",
       "       [20., 11., 39.],\n",
       "       [80., 69., 89.],\n",
       "       [91., 78., 95.],\n",
       "       [31., 27., 36.],\n",
       "       [80., 68., 92.],\n",
       "       [84., 76., 95.],\n",
       "       [58., 54., 62.],\n",
       "       [68., 58., 82.],\n",
       "       [62., 55., 67.],\n",
       "       [43., 33., 59.],\n",
       "       [54., 48., 62.],\n",
       "       [45., 41., 50.],\n",
       "       [60., 53., 67.],\n",
       "       [61., 57., 65.],\n",
       "       [35., 32., 39.],\n",
       "       [44., 40., 49.],\n",
       "       [77., 67., 86.],\n",
       "       [ 9.,  7., 13.],\n",
       "       [78., 70., 84.],\n",
       "       [48., 42., 53.],\n",
       "       [31., 25., 39.],\n",
       "       [54., 44., 69.],\n",
       "       [22., 18., 26.],\n",
       "       [70., 60., 80.],\n",
       "       [32., 29., 36.],\n",
       "       [40., 34., 46.],\n",
       "       [65., 52., 86.],\n",
       "       [56., 44., 68.],\n",
       "       [70., 63., 79.],\n",
       "       [92., 84., 95.],\n",
       "       [56., 50., 65.],\n",
       "       [73., 62., 84.],\n",
       "       [53., 43., 68.],\n",
       "       [54., 45., 65.],\n",
       "       [53., 40., 71.],\n",
       "       [82., 74., 90.],\n",
       "       [41., 37., 45.],\n",
       "       [10.,  9., 11.],\n",
       "       [54., 48., 59.],\n",
       "       [65., 58., 71.],\n",
       "       [40., 31., 58.],\n",
       "       [73., 54., 95.],\n",
       "       [44., 37., 51.],\n",
       "       [90., 78., 95.],\n",
       "       [34., 27., 45.],\n",
       "       [54., 47., 63.],\n",
       "       [67., 60., 73.],\n",
       "       [87., 76., 95.],\n",
       "       [63., 55., 71.],\n",
       "       [65., 47., 83.],\n",
       "       [41., 33., 50.],\n",
       "       [78., 71., 86.],\n",
       "       [54., 40., 85.],\n",
       "       [30., 23., 41.],\n",
       "       [62., 57., 66.],\n",
       "       [16., 12., 20.],\n",
       "       [84., 73., 94.],\n",
       "       [45., 40., 52.],\n",
       "       [15.,  7., 28.],\n",
       "       [52., 35., 75.],\n",
       "       [20., 18., 22.],\n",
       "       [46., 38., 56.],\n",
       "       [75., 66., 86.],\n",
       "       [60., 56., 65.],\n",
       "       [39., 24., 61.],\n",
       "       [72., 68., 78.],\n",
       "       [52., 48., 56.],\n",
       "       [71., 64., 78.],\n",
       "       [58., 41., 76.],\n",
       "       [51., 47., 55.],\n",
       "       [65., 57., 73.],\n",
       "       [21., 12., 35.],\n",
       "       [78., 69., 88.],\n",
       "       [88., 77., 95.]])"
      ]
     },
     "execution_count": 128,
     "metadata": {},
     "output_type": "execute_result"
    }
   ],
   "source": [
    "srm = fs.SelectFromModel(rfc, prefit=True, threshold=0.03);\n",
    "srm.transform(df)"
   ]
  },
  {
   "cell_type": "code",
   "execution_count": 133,
   "metadata": {},
   "outputs": [
    {
     "data": {
      "image/png": "[encoded data removed]",
      "text/plain": [
       "<Figure size 640x480 with 1 Axes>"
      ]
     },
     "metadata": {},
     "output_type": "display_data"
    }
   ],
   "source": [
    "pca = dc.PCA(n_components=2);\n",
    "# pca.fit(df, coverages['Estimated ART coverage among people living with HIV (%)_median']);\n",
    "# print(pca.explained_variance_ratio_)\n",
    "\n",
    "# scree_plot = pd.Series(pca.explained_variance_ratio_).plot.bar(rot = 1);\n",
    "\n",
    "# df = df.drop([\"Estimated number of people living with HIV_median\", \"Estimated number of people living with HIV_max\", \"Estimated number of people living with HIV_min\"], axis=1);\n",
    "# df = df.drop([\"Reported number of people receiving ART\"], axis = 1);\n",
    "pcs = pca.fit_transform(df, target);\n",
    "pcs_df = pd.DataFrame(pcs, columns=['PCA1', 'PCA2']);\n",
    "pcs_df.head()\n",
    "\n",
    "color: list[str] = [];\n",
    "\n",
    "for i in target: \n",
    "    if (i == 0): color.append('r');\n",
    "    elif (i == 1): color.append('g');\n",
    "    elif (i == 2): color.append('b');\n",
    "    elif (i == 3): color.append('y');\n",
    "    elif (i == 4): color.append('m');\n",
    "    else: color.append('c');\n",
    "\n",
    "pcs_df.plot.scatter('PCA1', 'PCA2', c = color, s = 40);"
   ]
  },
  {
   "cell_type": "code",
   "execution_count": 130,
   "metadata": {},
   "outputs": [
    {
     "data": {
      "text/html": [
       "<div>\n",
       "<style scoped>\n",
       "    .dataframe tbody tr th:only-of-type {\n",
       "        vertical-align: middle;\n",
       "    }\n",
       "\n",
       "    .dataframe tbody tr th {\n",
       "        vertical-align: top;\n",
       "    }\n",
       "\n",
       "    .dataframe thead th {\n",
       "        text-align: right;\n",
       "    }\n",
       "</style>\n",
       "<table border=\"1\" class=\"dataframe\">\n",
       "  <thead>\n",
       "    <tr style=\"text-align: right;\">\n",
       "      <th></th>\n",
       "      <th>Estimated ART coverage among people living with HIV (%)_median</th>\n",
       "      <th>Estimated ART coverage among people living with HIV (%)_min</th>\n",
       "      <th>Estimated ART coverage among people living with HIV (%)_max</th>\n",
       "    </tr>\n",
       "  </thead>\n",
       "  <tbody>\n",
       "    <tr>\n",
       "      <th>0</th>\n",
       "      <td>13.0</td>\n",
       "      <td>7.0</td>\n",
       "      <td>20.0</td>\n",
       "    </tr>\n",
       "    <tr>\n",
       "      <th>2</th>\n",
       "      <td>81.0</td>\n",
       "      <td>75.0</td>\n",
       "      <td>86.0</td>\n",
       "    </tr>\n",
       "    <tr>\n",
       "      <th>3</th>\n",
       "      <td>27.0</td>\n",
       "      <td>23.0</td>\n",
       "      <td>31.0</td>\n",
       "    </tr>\n",
       "    <tr>\n",
       "      <th>4</th>\n",
       "      <td>61.0</td>\n",
       "      <td>55.0</td>\n",
       "      <td>67.0</td>\n",
       "    </tr>\n",
       "    <tr>\n",
       "      <th>5</th>\n",
       "      <td>53.0</td>\n",
       "      <td>44.0</td>\n",
       "      <td>65.0</td>\n",
       "    </tr>\n",
       "  </tbody>\n",
       "</table>\n",
       "</div>"
      ],
      "text/plain": [
       "   Estimated ART coverage among people living with HIV (%)_median  \\\n",
       "0                                               13.0                \n",
       "2                                               81.0                \n",
       "3                                               27.0                \n",
       "4                                               61.0                \n",
       "5                                               53.0                \n",
       "\n",
       "   Estimated ART coverage among people living with HIV (%)_min  \\\n",
       "0                                                7.0             \n",
       "2                                               75.0             \n",
       "3                                               23.0             \n",
       "4                                               55.0             \n",
       "5                                               44.0             \n",
       "\n",
       "   Estimated ART coverage among people living with HIV (%)_max  \n",
       "0                                               20.0            \n",
       "2                                               86.0            \n",
       "3                                               31.0            \n",
       "4                                               67.0            \n",
       "5                                               65.0            "
      ]
     },
     "execution_count": 130,
     "metadata": {},
     "output_type": "execute_result"
    }
   ],
   "source": [
    "df.head()"
   ]
  },
  {
   "cell_type": "code",
   "execution_count": null,
   "metadata": {},
   "outputs": [],
   "source": []
  }
 ],
 "metadata": {
  "kernelspec": {
   "display_name": "Python 3",
   "language": "python",
   "name": "python3"
  },
  "language_info": {
   "codemirror_mode": {
    "name": "ipython",
    "version": 3
   },
   "file_extension": ".py",
   "mimetype": "text/x-python",
   "name": "python",
   "nbconvert_exporter": "python",
   "pygments_lexer": "ipython3",
   "version": "3.9.18"
  }
 },
 "nbformat": 4,
 "nbformat_minor": 2
}
